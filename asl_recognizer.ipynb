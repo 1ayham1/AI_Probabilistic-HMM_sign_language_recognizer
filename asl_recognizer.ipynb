{
 "cells": [
  {
   "cell_type": "markdown",
   "metadata": {
    "collapsed": true
   },
   "source": [
    "# Artificial Intelligence Engineer Nanodegree - Probabilistic Models\n",
    "## Project: Sign Language Recognition System\n",
    "- [Introduction](#intro)\n",
    "- [Part 1 Feature Selection](#part1_tutorial)\n",
    "    - [Tutorial](#part1_tutorial)\n",
    "    - [Features Submission](#part1_submission)\n",
    "    - [Features Unittest](#part1_test)\n",
    "- [Part 2 Train the models](#part2_tutorial)\n",
    "    - [Tutorial](#part2_tutorial)\n",
    "    - [Model Selection Score Submission](#part2_submission)\n",
    "    - [Model Score Unittest](#part2_test)\n",
    "- [Part 3 Build a Recognizer](#part3_tutorial)\n",
    "    - [Tutorial](#part3_tutorial)\n",
    "    - [Recognizer Submission](#part3_submission)\n",
    "    - [Recognizer Unittest](#part3_test)\n",
    "- [Part 4 (OPTIONAL) Improve the WER with Language Models](#part4_info)"
   ]
  },
  {
   "cell_type": "markdown",
   "metadata": {},
   "source": [
    "<a id='intro'></a>\n",
    "## Introduction\n",
    "The overall goal of this project is to build a word recognizer for American Sign Language video sequences, demonstrating the power of probabalistic models.  In particular, this project employs  [hidden Markov models (HMM's)](https://en.wikipedia.org/wiki/Hidden_Markov_model) to analyze a series of measurements taken from videos of American Sign Language (ASL) collected for research (see the [RWTH-BOSTON-104 Database](http://www-i6.informatik.rwth-aachen.de/~dreuw/database-rwth-boston-104.php)).  In this video, the right-hand x and y locations are plotted as the speaker signs the sentence.\n",
    "[![ASLR demo](http://www-i6.informatik.rwth-aachen.de/~dreuw/images/demosample.png)](https://drive.google.com/open?id=0B_5qGuFe-wbhUXRuVnNZVnMtam8)\n",
    "\n",
    "The raw data, train, and test sets are pre-defined.  You will derive a variety of feature sets (explored in Part 1), as well as implement three different model selection criterion to determine the optimal number of hidden states for each word model (explored in Part 2). Finally, in Part 3 you will implement the recognizer and compare the effects the different combinations of feature sets and model selection criteria.  \n",
    "\n",
    "At the end of each Part, complete the submission cells with implementations, answer all questions, and pass the unit tests.  Then submit the completed notebook for review!"
   ]
  },
  {
   "cell_type": "markdown",
   "metadata": {},
   "source": [
    "<a id='part1_tutorial'></a>\n",
    "## PART 1: Data\n",
    "\n",
    "### Features Tutorial\n",
    "##### Load the initial database\n",
    "A data handler designed for this database is provided in the student codebase as the `AslDb` class in the `asl_data` module.  This handler creates the initial [pandas](http://pandas.pydata.org/pandas-docs/stable/) dataframe from the corpus of data included in the `data` directory as well as dictionaries suitable for extracting data in a format friendly to the [hmmlearn](https://hmmlearn.readthedocs.io/en/latest/) library.  We'll use those to create models in Part 2.\n",
    "\n",
    "To start, let's set up the initial database and select an example set of features for the training set.  At the end of Part 1, you will create additional feature sets for experimentation. "
   ]
  },
  {
   "cell_type": "code",
   "execution_count": 1,
   "metadata": {
    "collapsed": false
   },
   "outputs": [
    {
     "data": {
      "text/html": [
       "<div>\n",
       "<table border=\"1\" class=\"dataframe\">\n",
       "  <thead>\n",
       "    <tr style=\"text-align: right;\">\n",
       "      <th></th>\n",
       "      <th></th>\n",
       "      <th>left-x</th>\n",
       "      <th>left-y</th>\n",
       "      <th>right-x</th>\n",
       "      <th>right-y</th>\n",
       "      <th>nose-x</th>\n",
       "      <th>nose-y</th>\n",
       "      <th>speaker</th>\n",
       "    </tr>\n",
       "    <tr>\n",
       "      <th>video</th>\n",
       "      <th>frame</th>\n",
       "      <th></th>\n",
       "      <th></th>\n",
       "      <th></th>\n",
       "      <th></th>\n",
       "      <th></th>\n",
       "      <th></th>\n",
       "      <th></th>\n",
       "    </tr>\n",
       "  </thead>\n",
       "  <tbody>\n",
       "    <tr>\n",
       "      <th rowspan=\"5\" valign=\"top\">98</th>\n",
       "      <th>0</th>\n",
       "      <td>149</td>\n",
       "      <td>181</td>\n",
       "      <td>170</td>\n",
       "      <td>175</td>\n",
       "      <td>161</td>\n",
       "      <td>62</td>\n",
       "      <td>woman-1</td>\n",
       "    </tr>\n",
       "    <tr>\n",
       "      <th>1</th>\n",
       "      <td>149</td>\n",
       "      <td>181</td>\n",
       "      <td>170</td>\n",
       "      <td>175</td>\n",
       "      <td>161</td>\n",
       "      <td>62</td>\n",
       "      <td>woman-1</td>\n",
       "    </tr>\n",
       "    <tr>\n",
       "      <th>2</th>\n",
       "      <td>149</td>\n",
       "      <td>181</td>\n",
       "      <td>170</td>\n",
       "      <td>175</td>\n",
       "      <td>161</td>\n",
       "      <td>62</td>\n",
       "      <td>woman-1</td>\n",
       "    </tr>\n",
       "    <tr>\n",
       "      <th>3</th>\n",
       "      <td>149</td>\n",
       "      <td>181</td>\n",
       "      <td>170</td>\n",
       "      <td>175</td>\n",
       "      <td>161</td>\n",
       "      <td>62</td>\n",
       "      <td>woman-1</td>\n",
       "    </tr>\n",
       "    <tr>\n",
       "      <th>4</th>\n",
       "      <td>149</td>\n",
       "      <td>181</td>\n",
       "      <td>170</td>\n",
       "      <td>175</td>\n",
       "      <td>161</td>\n",
       "      <td>62</td>\n",
       "      <td>woman-1</td>\n",
       "    </tr>\n",
       "  </tbody>\n",
       "</table>\n",
       "</div>"
      ],
      "text/plain": [
       "             left-x  left-y  right-x  right-y  nose-x  nose-y  speaker\n",
       "video frame                                                           \n",
       "98    0         149     181      170      175     161      62  woman-1\n",
       "      1         149     181      170      175     161      62  woman-1\n",
       "      2         149     181      170      175     161      62  woman-1\n",
       "      3         149     181      170      175     161      62  woman-1\n",
       "      4         149     181      170      175     161      62  woman-1"
      ]
     },
     "execution_count": 1,
     "metadata": {},
     "output_type": "execute_result"
    }
   ],
   "source": [
    "import numpy as np\n",
    "import pandas as pd\n",
    "from asl_data import AslDb\n",
    "\n",
    "\n",
    "asl = AslDb() # initializes the database\n",
    "asl.df.head() # displays the first five rows of the asl database, indexed by video and frame"
   ]
  },
  {
   "cell_type": "code",
   "execution_count": 2,
   "metadata": {
    "collapsed": false
   },
   "outputs": [
    {
     "data": {
      "text/plain": [
       "left-x         149\n",
       "left-y         181\n",
       "right-x        170\n",
       "right-y        175\n",
       "nose-x         161\n",
       "nose-y          62\n",
       "speaker    woman-1\n",
       "Name: (98, 1), dtype: object"
      ]
     },
     "execution_count": 2,
     "metadata": {},
     "output_type": "execute_result"
    }
   ],
   "source": [
    "asl.df.ix[98,1]  # look at the data available for an individual frame"
   ]
  },
  {
   "cell_type": "markdown",
   "metadata": {},
   "source": [
    "The frame represented by video 98, frame 1 is shown here:\n",
    "![Video 98](http://www-i6.informatik.rwth-aachen.de/~dreuw/database/rwth-boston-104/overview/images/orig/098-start.jpg)"
   ]
  },
  {
   "cell_type": "markdown",
   "metadata": {},
   "source": [
    "##### Feature selection for training the model\n",
    "The objective of feature selection when training a model is to choose the most relevant variables while keeping the model as simple as possible, thus reducing training time.  We can use the raw features already provided or derive our own and add columns to the pandas dataframe `asl.df` for selection. As an example, in the next cell a feature named `'grnd-ry'` is added. This feature is the difference between the right-hand y value and the nose y value, which serves as the \"ground\" right y value. "
   ]
  },
  {
   "cell_type": "code",
   "execution_count": 3,
   "metadata": {
    "collapsed": false
   },
   "outputs": [
    {
     "data": {
      "text/html": [
       "<div>\n",
       "<table border=\"1\" class=\"dataframe\">\n",
       "  <thead>\n",
       "    <tr style=\"text-align: right;\">\n",
       "      <th></th>\n",
       "      <th></th>\n",
       "      <th>left-x</th>\n",
       "      <th>left-y</th>\n",
       "      <th>right-x</th>\n",
       "      <th>right-y</th>\n",
       "      <th>nose-x</th>\n",
       "      <th>nose-y</th>\n",
       "      <th>speaker</th>\n",
       "      <th>grnd-ry</th>\n",
       "    </tr>\n",
       "    <tr>\n",
       "      <th>video</th>\n",
       "      <th>frame</th>\n",
       "      <th></th>\n",
       "      <th></th>\n",
       "      <th></th>\n",
       "      <th></th>\n",
       "      <th></th>\n",
       "      <th></th>\n",
       "      <th></th>\n",
       "      <th></th>\n",
       "    </tr>\n",
       "  </thead>\n",
       "  <tbody>\n",
       "    <tr>\n",
       "      <th rowspan=\"5\" valign=\"top\">98</th>\n",
       "      <th>0</th>\n",
       "      <td>149</td>\n",
       "      <td>181</td>\n",
       "      <td>170</td>\n",
       "      <td>175</td>\n",
       "      <td>161</td>\n",
       "      <td>62</td>\n",
       "      <td>woman-1</td>\n",
       "      <td>113</td>\n",
       "    </tr>\n",
       "    <tr>\n",
       "      <th>1</th>\n",
       "      <td>149</td>\n",
       "      <td>181</td>\n",
       "      <td>170</td>\n",
       "      <td>175</td>\n",
       "      <td>161</td>\n",
       "      <td>62</td>\n",
       "      <td>woman-1</td>\n",
       "      <td>113</td>\n",
       "    </tr>\n",
       "    <tr>\n",
       "      <th>2</th>\n",
       "      <td>149</td>\n",
       "      <td>181</td>\n",
       "      <td>170</td>\n",
       "      <td>175</td>\n",
       "      <td>161</td>\n",
       "      <td>62</td>\n",
       "      <td>woman-1</td>\n",
       "      <td>113</td>\n",
       "    </tr>\n",
       "    <tr>\n",
       "      <th>3</th>\n",
       "      <td>149</td>\n",
       "      <td>181</td>\n",
       "      <td>170</td>\n",
       "      <td>175</td>\n",
       "      <td>161</td>\n",
       "      <td>62</td>\n",
       "      <td>woman-1</td>\n",
       "      <td>113</td>\n",
       "    </tr>\n",
       "    <tr>\n",
       "      <th>4</th>\n",
       "      <td>149</td>\n",
       "      <td>181</td>\n",
       "      <td>170</td>\n",
       "      <td>175</td>\n",
       "      <td>161</td>\n",
       "      <td>62</td>\n",
       "      <td>woman-1</td>\n",
       "      <td>113</td>\n",
       "    </tr>\n",
       "  </tbody>\n",
       "</table>\n",
       "</div>"
      ],
      "text/plain": [
       "             left-x  left-y  right-x  right-y  nose-x  nose-y  speaker  \\\n",
       "video frame                                                              \n",
       "98    0         149     181      170      175     161      62  woman-1   \n",
       "      1         149     181      170      175     161      62  woman-1   \n",
       "      2         149     181      170      175     161      62  woman-1   \n",
       "      3         149     181      170      175     161      62  woman-1   \n",
       "      4         149     181      170      175     161      62  woman-1   \n",
       "\n",
       "             grnd-ry  \n",
       "video frame           \n",
       "98    0          113  \n",
       "      1          113  \n",
       "      2          113  \n",
       "      3          113  \n",
       "      4          113  "
      ]
     },
     "execution_count": 3,
     "metadata": {},
     "output_type": "execute_result"
    }
   ],
   "source": [
    "asl.df['grnd-ry'] = asl.df['right-y'] - asl.df['nose-y']\n",
    "asl.df.head()  # the new feature 'grnd-ry' is now in the frames dictionary"
   ]
  },
  {
   "cell_type": "markdown",
   "metadata": {},
   "source": [
    "##### Try it!"
   ]
  },
  {
   "cell_type": "code",
   "execution_count": 4,
   "metadata": {
    "collapsed": false
   },
   "outputs": [
    {
     "name": "stdout",
     "output_type": "stream",
     "text": [
      "asl.df sample\n"
     ]
    },
    {
     "data": {
      "text/html": [
       "<div>\n",
       "<table border=\"1\" class=\"dataframe\">\n",
       "  <thead>\n",
       "    <tr style=\"text-align: right;\">\n",
       "      <th></th>\n",
       "      <th></th>\n",
       "      <th>left-x</th>\n",
       "      <th>left-y</th>\n",
       "      <th>right-x</th>\n",
       "      <th>right-y</th>\n",
       "      <th>nose-x</th>\n",
       "      <th>nose-y</th>\n",
       "      <th>speaker</th>\n",
       "      <th>grnd-ry</th>\n",
       "      <th>grnd-rx</th>\n",
       "      <th>grnd-ly</th>\n",
       "      <th>grnd-lx</th>\n",
       "    </tr>\n",
       "    <tr>\n",
       "      <th>video</th>\n",
       "      <th>frame</th>\n",
       "      <th></th>\n",
       "      <th></th>\n",
       "      <th></th>\n",
       "      <th></th>\n",
       "      <th></th>\n",
       "      <th></th>\n",
       "      <th></th>\n",
       "      <th></th>\n",
       "      <th></th>\n",
       "      <th></th>\n",
       "      <th></th>\n",
       "    </tr>\n",
       "  </thead>\n",
       "  <tbody>\n",
       "    <tr>\n",
       "      <th rowspan=\"5\" valign=\"top\">98</th>\n",
       "      <th>0</th>\n",
       "      <td>149</td>\n",
       "      <td>181</td>\n",
       "      <td>170</td>\n",
       "      <td>175</td>\n",
       "      <td>161</td>\n",
       "      <td>62</td>\n",
       "      <td>woman-1</td>\n",
       "      <td>113</td>\n",
       "      <td>9</td>\n",
       "      <td>119</td>\n",
       "      <td>-12</td>\n",
       "    </tr>\n",
       "    <tr>\n",
       "      <th>1</th>\n",
       "      <td>149</td>\n",
       "      <td>181</td>\n",
       "      <td>170</td>\n",
       "      <td>175</td>\n",
       "      <td>161</td>\n",
       "      <td>62</td>\n",
       "      <td>woman-1</td>\n",
       "      <td>113</td>\n",
       "      <td>9</td>\n",
       "      <td>119</td>\n",
       "      <td>-12</td>\n",
       "    </tr>\n",
       "    <tr>\n",
       "      <th>2</th>\n",
       "      <td>149</td>\n",
       "      <td>181</td>\n",
       "      <td>170</td>\n",
       "      <td>175</td>\n",
       "      <td>161</td>\n",
       "      <td>62</td>\n",
       "      <td>woman-1</td>\n",
       "      <td>113</td>\n",
       "      <td>9</td>\n",
       "      <td>119</td>\n",
       "      <td>-12</td>\n",
       "    </tr>\n",
       "    <tr>\n",
       "      <th>3</th>\n",
       "      <td>149</td>\n",
       "      <td>181</td>\n",
       "      <td>170</td>\n",
       "      <td>175</td>\n",
       "      <td>161</td>\n",
       "      <td>62</td>\n",
       "      <td>woman-1</td>\n",
       "      <td>113</td>\n",
       "      <td>9</td>\n",
       "      <td>119</td>\n",
       "      <td>-12</td>\n",
       "    </tr>\n",
       "    <tr>\n",
       "      <th>4</th>\n",
       "      <td>149</td>\n",
       "      <td>181</td>\n",
       "      <td>170</td>\n",
       "      <td>175</td>\n",
       "      <td>161</td>\n",
       "      <td>62</td>\n",
       "      <td>woman-1</td>\n",
       "      <td>113</td>\n",
       "      <td>9</td>\n",
       "      <td>119</td>\n",
       "      <td>-12</td>\n",
       "    </tr>\n",
       "  </tbody>\n",
       "</table>\n",
       "</div>"
      ],
      "text/plain": [
       "             left-x  left-y  right-x  right-y  nose-x  nose-y  speaker  \\\n",
       "video frame                                                              \n",
       "98    0         149     181      170      175     161      62  woman-1   \n",
       "      1         149     181      170      175     161      62  woman-1   \n",
       "      2         149     181      170      175     161      62  woman-1   \n",
       "      3         149     181      170      175     161      62  woman-1   \n",
       "      4         149     181      170      175     161      62  woman-1   \n",
       "\n",
       "             grnd-ry  grnd-rx  grnd-ly  grnd-lx  \n",
       "video frame                                      \n",
       "98    0          113        9      119      -12  \n",
       "      1          113        9      119      -12  \n",
       "      2          113        9      119      -12  \n",
       "      3          113        9      119      -12  \n",
       "      4          113        9      119      -12  "
      ]
     },
     "metadata": {},
     "output_type": "display_data"
    },
    {
     "data": {
      "text/html": [
       "<font color=green>Correct!</font><br/>"
      ],
      "text/plain": [
       "<IPython.core.display.HTML object>"
      ]
     },
     "execution_count": 4,
     "metadata": {},
     "output_type": "execute_result"
    }
   ],
   "source": [
    "from asl_utils import test_features_tryit\n",
    "# TODO add df columns for 'grnd-rx', 'grnd-ly', 'grnd-lx' representing differences between hand and nose locations\n",
    "\n",
    "asl.df['grnd-rx'] = asl.df['right-x'] - asl.df['nose-x']\n",
    "asl.df['grnd-ly'] = asl.df['left-y'] - asl.df['nose-y']\n",
    "asl.df['grnd-lx'] = asl.df['left-x'] - asl.df['nose-x']\n",
    "\n",
    "# test the code\n",
    "test_features_tryit(asl)"
   ]
  },
  {
   "cell_type": "code",
   "execution_count": 5,
   "metadata": {
    "collapsed": false
   },
   "outputs": [
    {
     "data": {
      "text/plain": [
       "[9, 113, -12, 119]"
      ]
     },
     "execution_count": 5,
     "metadata": {},
     "output_type": "execute_result"
    }
   ],
   "source": [
    "# collect the features into a list\n",
    "features_ground = ['grnd-rx','grnd-ry','grnd-lx','grnd-ly']\n",
    " #show a single set of features for a given (video, frame) tuple\n",
    "[asl.df.ix[98,1][v] for v in features_ground]"
   ]
  },
  {
   "cell_type": "markdown",
   "metadata": {},
   "source": [
    "##### Build the training set\n",
    "Now that we have a feature list defined, we can pass that list to the `build_training` method to collect the features for all the words in the training set.  Each word in the training set has multiple examples from various videos.  Below we can see the unique words that have been loaded into the training set:"
   ]
  },
  {
   "cell_type": "code",
   "execution_count": 6,
   "metadata": {
    "collapsed": false
   },
   "outputs": [
    {
     "name": "stdout",
     "output_type": "stream",
     "text": [
      "Training words: ['FISH', 'WOMAN', 'YESTERDAY', 'ANN', 'PREFER', 'HOMEWORK', 'CORN1', 'BOY', 'CANDY', 'CAR', 'POSS', 'DECIDE', 'SOMETHING-ONE', 'FINISH', 'LIVE', 'SHOOT', 'BLAME', 'LEG', 'IX-1P', 'PEOPLE', 'TEACHER', 'PARTY', 'ARRIVE', 'GIVE3', 'BILL', 'THROW', 'PAST', 'HAVE', 'LAST-WEEK', 'JOHN', 'BUY1', 'LEAVE', 'COAT', 'FUTURE1', 'APPLE', 'LOVE', 'GIVE', 'MOVIE', 'SAY', 'FRANK', 'WHAT', 'WONT', 'MARY', 'BUY', 'ALL', 'HIT', 'GIVE1', 'GET', 'SHOULD', 'CORN', 'POTATO', 'NEW', 'BOX', 'VIDEOTAPE', 'TOY', 'EAT', 'GO1', 'FRED', 'GO2', 'SELL', 'FRIEND', 'IX', 'NOT', 'READ', 'SUE', 'VEGETABLE', 'CHOCOLATE', 'BLUE', 'FIND', 'GO', 'CHICKEN', 'STOLEN', 'PUTASIDE', 'HERE', 'BORROW', 'TOMORROW', 'TOY1', 'LIKE', 'WHO', 'BUT', 'KNOW', 'HOUSE', 'STUDENT', 'NEW-YORK', 'THINK', 'GIRL', 'SAY-1P', 'SELF', 'SEE', 'BOOK', 'OLD', 'JANA', 'GIVE2', 'WRITE', 'WILL', 'WANT', 'GROUP', 'BROCCOLI', 'BREAK-DOWN', 'SEARCH-FOR', 'FUTURE', 'BROTHER', 'CHICAGO', 'MANY', 'MAN', 'MOTHER', 'NEXT-WEEK', 'VISIT', 'TELL', 'NAME', 'CHINA', 'CAN']\n"
     ]
    }
   ],
   "source": [
    "training = asl.build_training(features_ground)\n",
    "print(\"Training words: {}\".format(training.words))"
   ]
  },
  {
   "cell_type": "markdown",
   "metadata": {},
   "source": [
    "The training data in `training` is an object of class `WordsData` defined in the `asl_data` module.  in addition to the `words` list, data can be accessed with the `get_all_sequences`, `get_all_Xlengths`, `get_word_sequences`, and `get_word_Xlengths` methods. We need the `get_word_Xlengths` method to train multiple sequences with the `hmmlearn` library.  In the following example, notice that there are two lists; the first is a concatenation of all the sequences(the X portion) and the second is a list of the sequence lengths(the Lengths portion)."
   ]
  },
  {
   "cell_type": "code",
   "execution_count": 7,
   "metadata": {
    "collapsed": false
   },
   "outputs": [
    {
     "data": {
      "text/plain": [
       "(array([[-11,  48,   7, 120],\n",
       "        [-11,  48,   8, 109],\n",
       "        [ -8,  49,  11,  98],\n",
       "        [ -7,  50,   7,  87],\n",
       "        [ -4,  54,   7,  77],\n",
       "        [ -4,  54,   6,  69],\n",
       "        [ -4,  54,   6,  69],\n",
       "        [-13,  52,   6,  69],\n",
       "        [-13,  52,   6,  69],\n",
       "        [ -8,  51,   6,  69],\n",
       "        [ -8,  51,   6,  69],\n",
       "        [ -8,  51,   6,  69],\n",
       "        [ -8,  51,   6,  69],\n",
       "        [ -8,  51,   6,  69],\n",
       "        [-10,  59,   7,  71],\n",
       "        [-15,  64,   9,  77],\n",
       "        [-17,  75,  13,  81],\n",
       "        [ -4,  48,  -4, 113],\n",
       "        [ -2,  53,  -4, 113],\n",
       "        [ -4,  55,   2,  98],\n",
       "        [ -4,  58,   2,  98],\n",
       "        [ -1,  59,   2,  89],\n",
       "        [ -1,  59,  -1,  84],\n",
       "        [ -1,  59,  -1,  84],\n",
       "        [ -7,  63,  -1,  84],\n",
       "        [ -7,  63,  -1,  84],\n",
       "        [ -7,  63,   3,  83],\n",
       "        [ -7,  63,   3,  83],\n",
       "        [ -7,  63,   3,  83],\n",
       "        [ -7,  63,   3,  83],\n",
       "        [ -7,  63,   3,  83],\n",
       "        [ -7,  63,   3,  83],\n",
       "        [ -7,  63,   3,  83],\n",
       "        [ -4,  70,   3,  83],\n",
       "        [ -4,  70,   3,  83],\n",
       "        [ -2,  73,   5,  90],\n",
       "        [ -3,  79,  -4,  96],\n",
       "        [-15,  98,  13, 135],\n",
       "        [ -6,  93,  12, 128],\n",
       "        [ -2,  89,  14, 118],\n",
       "        [  5,  90,  10, 108],\n",
       "        [  4,  86,   7, 105],\n",
       "        [  4,  86,   7, 105],\n",
       "        [  4,  86,  13, 100],\n",
       "        [ -3,  82,  14,  96],\n",
       "        [ -3,  82,  14,  96],\n",
       "        [  6,  89,  16, 100],\n",
       "        [  6,  89,  16, 100],\n",
       "        [  7,  85,  17, 111]], dtype=int64), [17, 20, 12])"
      ]
     },
     "execution_count": 7,
     "metadata": {},
     "output_type": "execute_result"
    }
   ],
   "source": [
    "# ['grnd-rx','grnd-ry','grnd-lx','grnd-ly' for word chocolate]\n",
    "training.get_word_Xlengths('CHOCOLATE') "
   ]
  },
  {
   "cell_type": "markdown",
   "metadata": {},
   "source": [
    "###### More feature sets\n",
    "So far we have a simple feature set that is enough to get started modeling.  However, we might get better results if we manipulate the raw values a bit more, so we will go ahead and set up some other options now for experimentation later.  For example, we could normalize each speaker's range of motion with grouped statistics using [Pandas stats](http://pandas.pydata.org/pandas-docs/stable/api.html#api-dataframe-stats) functions and [pandas groupby](http://pandas.pydata.org/pandas-docs/stable/generated/pandas.DataFrame.groupby.html).  Below is an example for finding the means of all speaker subgroups."
   ]
  },
  {
   "cell_type": "code",
   "execution_count": 8,
   "metadata": {
    "collapsed": false,
    "scrolled": true
   },
   "outputs": [
    {
     "data": {
      "text/html": [
       "<div>\n",
       "<table border=\"1\" class=\"dataframe\">\n",
       "  <thead>\n",
       "    <tr style=\"text-align: right;\">\n",
       "      <th></th>\n",
       "      <th>left-x</th>\n",
       "      <th>left-y</th>\n",
       "      <th>right-x</th>\n",
       "      <th>right-y</th>\n",
       "      <th>nose-x</th>\n",
       "      <th>nose-y</th>\n",
       "      <th>grnd-ry</th>\n",
       "      <th>grnd-rx</th>\n",
       "      <th>grnd-ly</th>\n",
       "      <th>grnd-lx</th>\n",
       "    </tr>\n",
       "    <tr>\n",
       "      <th>speaker</th>\n",
       "      <th></th>\n",
       "      <th></th>\n",
       "      <th></th>\n",
       "      <th></th>\n",
       "      <th></th>\n",
       "      <th></th>\n",
       "      <th></th>\n",
       "      <th></th>\n",
       "      <th></th>\n",
       "      <th></th>\n",
       "    </tr>\n",
       "  </thead>\n",
       "  <tbody>\n",
       "    <tr>\n",
       "      <th>man-1</th>\n",
       "      <td>206.248203</td>\n",
       "      <td>218.679449</td>\n",
       "      <td>155.464350</td>\n",
       "      <td>150.371031</td>\n",
       "      <td>175.031756</td>\n",
       "      <td>61.642600</td>\n",
       "      <td>88.728430</td>\n",
       "      <td>-19.567406</td>\n",
       "      <td>157.036848</td>\n",
       "      <td>31.216447</td>\n",
       "    </tr>\n",
       "    <tr>\n",
       "      <th>woman-1</th>\n",
       "      <td>164.661438</td>\n",
       "      <td>161.271242</td>\n",
       "      <td>151.017865</td>\n",
       "      <td>117.332462</td>\n",
       "      <td>162.655120</td>\n",
       "      <td>57.245098</td>\n",
       "      <td>60.087364</td>\n",
       "      <td>-11.637255</td>\n",
       "      <td>104.026144</td>\n",
       "      <td>2.006318</td>\n",
       "    </tr>\n",
       "    <tr>\n",
       "      <th>woman-2</th>\n",
       "      <td>183.214509</td>\n",
       "      <td>176.527232</td>\n",
       "      <td>156.866295</td>\n",
       "      <td>119.835714</td>\n",
       "      <td>170.318973</td>\n",
       "      <td>58.022098</td>\n",
       "      <td>61.813616</td>\n",
       "      <td>-13.452679</td>\n",
       "      <td>118.505134</td>\n",
       "      <td>12.895536</td>\n",
       "    </tr>\n",
       "  </tbody>\n",
       "</table>\n",
       "</div>"
      ],
      "text/plain": [
       "             left-x      left-y     right-x     right-y      nose-x  \\\n",
       "speaker                                                               \n",
       "man-1    206.248203  218.679449  155.464350  150.371031  175.031756   \n",
       "woman-1  164.661438  161.271242  151.017865  117.332462  162.655120   \n",
       "woman-2  183.214509  176.527232  156.866295  119.835714  170.318973   \n",
       "\n",
       "            nose-y    grnd-ry    grnd-rx     grnd-ly    grnd-lx  \n",
       "speaker                                                          \n",
       "man-1    61.642600  88.728430 -19.567406  157.036848  31.216447  \n",
       "woman-1  57.245098  60.087364 -11.637255  104.026144   2.006318  \n",
       "woman-2  58.022098  61.813616 -13.452679  118.505134  12.895536  "
      ]
     },
     "execution_count": 8,
     "metadata": {},
     "output_type": "execute_result"
    }
   ],
   "source": [
    "df_means = asl.df.groupby('speaker').mean()\n",
    "df_means"
   ]
  },
  {
   "cell_type": "markdown",
   "metadata": {},
   "source": [
    "To select a mean that matches by speaker, use the pandas [map](http://pandas.pydata.org/pandas-docs/stable/generated/pandas.Series.map.html) method:"
   ]
  },
  {
   "cell_type": "code",
   "execution_count": 9,
   "metadata": {
    "collapsed": false
   },
   "outputs": [
    {
     "data": {
      "text/html": [
       "<div>\n",
       "<table border=\"1\" class=\"dataframe\">\n",
       "  <thead>\n",
       "    <tr style=\"text-align: right;\">\n",
       "      <th></th>\n",
       "      <th></th>\n",
       "      <th>left-x</th>\n",
       "      <th>left-y</th>\n",
       "      <th>right-x</th>\n",
       "      <th>right-y</th>\n",
       "      <th>nose-x</th>\n",
       "      <th>nose-y</th>\n",
       "      <th>speaker</th>\n",
       "      <th>grnd-ry</th>\n",
       "      <th>grnd-rx</th>\n",
       "      <th>grnd-ly</th>\n",
       "      <th>grnd-lx</th>\n",
       "      <th>left-x-mean</th>\n",
       "    </tr>\n",
       "    <tr>\n",
       "      <th>video</th>\n",
       "      <th>frame</th>\n",
       "      <th></th>\n",
       "      <th></th>\n",
       "      <th></th>\n",
       "      <th></th>\n",
       "      <th></th>\n",
       "      <th></th>\n",
       "      <th></th>\n",
       "      <th></th>\n",
       "      <th></th>\n",
       "      <th></th>\n",
       "      <th></th>\n",
       "      <th></th>\n",
       "    </tr>\n",
       "  </thead>\n",
       "  <tbody>\n",
       "    <tr>\n",
       "      <th rowspan=\"5\" valign=\"top\">98</th>\n",
       "      <th>0</th>\n",
       "      <td>149</td>\n",
       "      <td>181</td>\n",
       "      <td>170</td>\n",
       "      <td>175</td>\n",
       "      <td>161</td>\n",
       "      <td>62</td>\n",
       "      <td>woman-1</td>\n",
       "      <td>113</td>\n",
       "      <td>9</td>\n",
       "      <td>119</td>\n",
       "      <td>-12</td>\n",
       "      <td>164.661438</td>\n",
       "    </tr>\n",
       "    <tr>\n",
       "      <th>1</th>\n",
       "      <td>149</td>\n",
       "      <td>181</td>\n",
       "      <td>170</td>\n",
       "      <td>175</td>\n",
       "      <td>161</td>\n",
       "      <td>62</td>\n",
       "      <td>woman-1</td>\n",
       "      <td>113</td>\n",
       "      <td>9</td>\n",
       "      <td>119</td>\n",
       "      <td>-12</td>\n",
       "      <td>164.661438</td>\n",
       "    </tr>\n",
       "    <tr>\n",
       "      <th>2</th>\n",
       "      <td>149</td>\n",
       "      <td>181</td>\n",
       "      <td>170</td>\n",
       "      <td>175</td>\n",
       "      <td>161</td>\n",
       "      <td>62</td>\n",
       "      <td>woman-1</td>\n",
       "      <td>113</td>\n",
       "      <td>9</td>\n",
       "      <td>119</td>\n",
       "      <td>-12</td>\n",
       "      <td>164.661438</td>\n",
       "    </tr>\n",
       "    <tr>\n",
       "      <th>3</th>\n",
       "      <td>149</td>\n",
       "      <td>181</td>\n",
       "      <td>170</td>\n",
       "      <td>175</td>\n",
       "      <td>161</td>\n",
       "      <td>62</td>\n",
       "      <td>woman-1</td>\n",
       "      <td>113</td>\n",
       "      <td>9</td>\n",
       "      <td>119</td>\n",
       "      <td>-12</td>\n",
       "      <td>164.661438</td>\n",
       "    </tr>\n",
       "    <tr>\n",
       "      <th>4</th>\n",
       "      <td>149</td>\n",
       "      <td>181</td>\n",
       "      <td>170</td>\n",
       "      <td>175</td>\n",
       "      <td>161</td>\n",
       "      <td>62</td>\n",
       "      <td>woman-1</td>\n",
       "      <td>113</td>\n",
       "      <td>9</td>\n",
       "      <td>119</td>\n",
       "      <td>-12</td>\n",
       "      <td>164.661438</td>\n",
       "    </tr>\n",
       "  </tbody>\n",
       "</table>\n",
       "</div>"
      ],
      "text/plain": [
       "             left-x  left-y  right-x  right-y  nose-x  nose-y  speaker  \\\n",
       "video frame                                                              \n",
       "98    0         149     181      170      175     161      62  woman-1   \n",
       "      1         149     181      170      175     161      62  woman-1   \n",
       "      2         149     181      170      175     161      62  woman-1   \n",
       "      3         149     181      170      175     161      62  woman-1   \n",
       "      4         149     181      170      175     161      62  woman-1   \n",
       "\n",
       "             grnd-ry  grnd-rx  grnd-ly  grnd-lx  left-x-mean  \n",
       "video frame                                                   \n",
       "98    0          113        9      119      -12   164.661438  \n",
       "      1          113        9      119      -12   164.661438  \n",
       "      2          113        9      119      -12   164.661438  \n",
       "      3          113        9      119      -12   164.661438  \n",
       "      4          113        9      119      -12   164.661438  "
      ]
     },
     "execution_count": 9,
     "metadata": {},
     "output_type": "execute_result"
    }
   ],
   "source": [
    "asl.df['left-x-mean']= asl.df['speaker'].map(df_means['left-x'])\n",
    "asl.df.head()"
   ]
  },
  {
   "cell_type": "markdown",
   "metadata": {},
   "source": [
    "##### Try it!"
   ]
  },
  {
   "cell_type": "code",
   "execution_count": 10,
   "metadata": {
    "collapsed": false
   },
   "outputs": [
    {
     "name": "stdout",
     "output_type": "stream",
     "text": [
      "df_std\n"
     ]
    },
    {
     "data": {
      "text/html": [
       "<div>\n",
       "<table border=\"1\" class=\"dataframe\">\n",
       "  <thead>\n",
       "    <tr style=\"text-align: right;\">\n",
       "      <th></th>\n",
       "      <th>left-x</th>\n",
       "      <th>left-y</th>\n",
       "      <th>right-x</th>\n",
       "      <th>right-y</th>\n",
       "      <th>nose-x</th>\n",
       "      <th>nose-y</th>\n",
       "      <th>grnd-ry</th>\n",
       "      <th>grnd-rx</th>\n",
       "      <th>grnd-ly</th>\n",
       "      <th>grnd-lx</th>\n",
       "      <th>left-x-mean</th>\n",
       "    </tr>\n",
       "    <tr>\n",
       "      <th>speaker</th>\n",
       "      <th></th>\n",
       "      <th></th>\n",
       "      <th></th>\n",
       "      <th></th>\n",
       "      <th></th>\n",
       "      <th></th>\n",
       "      <th></th>\n",
       "      <th></th>\n",
       "      <th></th>\n",
       "      <th></th>\n",
       "      <th></th>\n",
       "    </tr>\n",
       "  </thead>\n",
       "  <tbody>\n",
       "    <tr>\n",
       "      <th>man-1</th>\n",
       "      <td>15.154425</td>\n",
       "      <td>36.328485</td>\n",
       "      <td>18.901917</td>\n",
       "      <td>54.902340</td>\n",
       "      <td>6.654573</td>\n",
       "      <td>5.520045</td>\n",
       "      <td>53.487999</td>\n",
       "      <td>20.269032</td>\n",
       "      <td>36.572749</td>\n",
       "      <td>15.080360</td>\n",
       "      <td>0.0</td>\n",
       "    </tr>\n",
       "    <tr>\n",
       "      <th>woman-1</th>\n",
       "      <td>17.573442</td>\n",
       "      <td>26.594521</td>\n",
       "      <td>16.459943</td>\n",
       "      <td>34.667787</td>\n",
       "      <td>3.549392</td>\n",
       "      <td>3.538330</td>\n",
       "      <td>33.972660</td>\n",
       "      <td>16.764706</td>\n",
       "      <td>27.117393</td>\n",
       "      <td>17.328941</td>\n",
       "      <td>0.0</td>\n",
       "    </tr>\n",
       "    <tr>\n",
       "      <th>woman-2</th>\n",
       "      <td>15.388711</td>\n",
       "      <td>28.825025</td>\n",
       "      <td>14.890288</td>\n",
       "      <td>39.649111</td>\n",
       "      <td>4.099760</td>\n",
       "      <td>3.416167</td>\n",
       "      <td>39.128572</td>\n",
       "      <td>16.191324</td>\n",
       "      <td>29.320655</td>\n",
       "      <td>15.050938</td>\n",
       "      <td>0.0</td>\n",
       "    </tr>\n",
       "  </tbody>\n",
       "</table>\n",
       "</div>"
      ],
      "text/plain": [
       "            left-x     left-y    right-x    right-y    nose-x    nose-y  \\\n",
       "speaker                                                                   \n",
       "man-1    15.154425  36.328485  18.901917  54.902340  6.654573  5.520045   \n",
       "woman-1  17.573442  26.594521  16.459943  34.667787  3.549392  3.538330   \n",
       "woman-2  15.388711  28.825025  14.890288  39.649111  4.099760  3.416167   \n",
       "\n",
       "           grnd-ry    grnd-rx    grnd-ly    grnd-lx  left-x-mean  \n",
       "speaker                                                           \n",
       "man-1    53.487999  20.269032  36.572749  15.080360          0.0  \n",
       "woman-1  33.972660  16.764706  27.117393  17.328941          0.0  \n",
       "woman-2  39.128572  16.191324  29.320655  15.050938          0.0  "
      ]
     },
     "metadata": {},
     "output_type": "display_data"
    },
    {
     "data": {
      "text/html": [
       "<font color=green>Correct!</font><br/>"
      ],
      "text/plain": [
       "<IPython.core.display.HTML object>"
      ]
     },
     "execution_count": 10,
     "metadata": {},
     "output_type": "execute_result"
    }
   ],
   "source": [
    "from asl_utils import test_std_tryit\n",
    "\n",
    "# TODO Create a dataframe named `df_std` with standard deviations grouped by speaker\n",
    "df_std = asl.df.groupby('speaker').std()\n",
    "\n",
    "\n",
    "# test the code\n",
    "test_std_tryit(df_std)"
   ]
  },
  {
   "cell_type": "markdown",
   "metadata": {},
   "source": [
    "<a id='part1_submission'></a>\n",
    "### Features Implementation Submission\n",
    "Implement four feature sets and answer the question that follows.\n",
    "- normalized Cartesian coordinates\n",
    "    - use *mean* and *standard deviation* statistics and the [standard score](https://en.wikipedia.org/wiki/Standard_score) equation to account for speakers with different heights and arm length\n",
    "    \n",
    "- polar coordinates\n",
    "    - calculate polar coordinates with [Cartesian to polar equations](https://en.wikipedia.org/wiki/Polar_coordinate_system#Converting_between_polar_and_Cartesian_coordinates)\n",
    "    - use the [np.arctan2](https://docs.scipy.org/doc/numpy-1.10.0/reference/generated/numpy.arctan2.html) function and *swap the x and y axes* to move the $0$ to $2\\pi$ discontinuity to 12 o'clock instead of 3 o'clock;  in other words, the normal break in radians value from $0$ to $2\\pi$ occurs directly to the left of the speaker's nose, which may be in the signing area and interfere with results.  By swapping the x and y axes, that discontinuity move to directly above the speaker's head, an area not generally used in signing. \n",
    "    - Note for me: Refere to office hour vedio min-25 if you forgot what this is :)\n",
    "\n",
    "- delta difference\n",
    "    - as described in Thad's lecture, use the difference in values between one frame and the next frames as features\n",
    "    - pandas [diff method](http://pandas.pydata.org/pandas-docs/stable/generated/pandas.DataFrame.diff.html) and [fillna method](http://pandas.pydata.org/pandas-docs/stable/generated/pandas.DataFrame.fillna.html) will be helpful for this one\n",
    "\n",
    "- custom features\n",
    "    - These are your own design; combine techniques used above or come up with something else entirely. We look forward to seeing what you come up with! \n",
    "    Some ideas to get you started:\n",
    "        - normalize using a [feature scaling equation](https://en.wikipedia.org/wiki/Feature_scaling)\n",
    "        - normalize the polar coordinates\n",
    "        - adding additional deltas\n"
   ]
  },
  {
   "cell_type": "code",
   "execution_count": 11,
   "metadata": {
    "collapsed": false
   },
   "outputs": [
    {
     "data": {
      "text/html": [
       "<div>\n",
       "<table border=\"1\" class=\"dataframe\">\n",
       "  <thead>\n",
       "    <tr style=\"text-align: right;\">\n",
       "      <th></th>\n",
       "      <th></th>\n",
       "      <th>left-x</th>\n",
       "      <th>left-y</th>\n",
       "      <th>right-x</th>\n",
       "      <th>right-y</th>\n",
       "      <th>nose-x</th>\n",
       "      <th>nose-y</th>\n",
       "      <th>speaker</th>\n",
       "      <th>grnd-ry</th>\n",
       "      <th>grnd-rx</th>\n",
       "      <th>grnd-ly</th>\n",
       "      <th>grnd-lx</th>\n",
       "      <th>left-x-mean</th>\n",
       "      <th>norm-rx</th>\n",
       "      <th>norm-ry</th>\n",
       "      <th>norm-lx</th>\n",
       "      <th>norm-ly</th>\n",
       "    </tr>\n",
       "    <tr>\n",
       "      <th>video</th>\n",
       "      <th>frame</th>\n",
       "      <th></th>\n",
       "      <th></th>\n",
       "      <th></th>\n",
       "      <th></th>\n",
       "      <th></th>\n",
       "      <th></th>\n",
       "      <th></th>\n",
       "      <th></th>\n",
       "      <th></th>\n",
       "      <th></th>\n",
       "      <th></th>\n",
       "      <th></th>\n",
       "      <th></th>\n",
       "      <th></th>\n",
       "      <th></th>\n",
       "      <th></th>\n",
       "    </tr>\n",
       "  </thead>\n",
       "  <tbody>\n",
       "    <tr>\n",
       "      <th rowspan=\"5\" valign=\"top\">98</th>\n",
       "      <th>0</th>\n",
       "      <td>149</td>\n",
       "      <td>181</td>\n",
       "      <td>170</td>\n",
       "      <td>175</td>\n",
       "      <td>161</td>\n",
       "      <td>62</td>\n",
       "      <td>woman-1</td>\n",
       "      <td>113</td>\n",
       "      <td>9</td>\n",
       "      <td>119</td>\n",
       "      <td>-12</td>\n",
       "      <td>164.661438</td>\n",
       "      <td>1.153232</td>\n",
       "      <td>1.663433</td>\n",
       "      <td>-0.891199</td>\n",
       "      <td>0.741835</td>\n",
       "    </tr>\n",
       "    <tr>\n",
       "      <th>1</th>\n",
       "      <td>149</td>\n",
       "      <td>181</td>\n",
       "      <td>170</td>\n",
       "      <td>175</td>\n",
       "      <td>161</td>\n",
       "      <td>62</td>\n",
       "      <td>woman-1</td>\n",
       "      <td>113</td>\n",
       "      <td>9</td>\n",
       "      <td>119</td>\n",
       "      <td>-12</td>\n",
       "      <td>164.661438</td>\n",
       "      <td>1.153232</td>\n",
       "      <td>1.663433</td>\n",
       "      <td>-0.891199</td>\n",
       "      <td>0.741835</td>\n",
       "    </tr>\n",
       "    <tr>\n",
       "      <th>2</th>\n",
       "      <td>149</td>\n",
       "      <td>181</td>\n",
       "      <td>170</td>\n",
       "      <td>175</td>\n",
       "      <td>161</td>\n",
       "      <td>62</td>\n",
       "      <td>woman-1</td>\n",
       "      <td>113</td>\n",
       "      <td>9</td>\n",
       "      <td>119</td>\n",
       "      <td>-12</td>\n",
       "      <td>164.661438</td>\n",
       "      <td>1.153232</td>\n",
       "      <td>1.663433</td>\n",
       "      <td>-0.891199</td>\n",
       "      <td>0.741835</td>\n",
       "    </tr>\n",
       "    <tr>\n",
       "      <th>3</th>\n",
       "      <td>149</td>\n",
       "      <td>181</td>\n",
       "      <td>170</td>\n",
       "      <td>175</td>\n",
       "      <td>161</td>\n",
       "      <td>62</td>\n",
       "      <td>woman-1</td>\n",
       "      <td>113</td>\n",
       "      <td>9</td>\n",
       "      <td>119</td>\n",
       "      <td>-12</td>\n",
       "      <td>164.661438</td>\n",
       "      <td>1.153232</td>\n",
       "      <td>1.663433</td>\n",
       "      <td>-0.891199</td>\n",
       "      <td>0.741835</td>\n",
       "    </tr>\n",
       "    <tr>\n",
       "      <th>4</th>\n",
       "      <td>149</td>\n",
       "      <td>181</td>\n",
       "      <td>170</td>\n",
       "      <td>175</td>\n",
       "      <td>161</td>\n",
       "      <td>62</td>\n",
       "      <td>woman-1</td>\n",
       "      <td>113</td>\n",
       "      <td>9</td>\n",
       "      <td>119</td>\n",
       "      <td>-12</td>\n",
       "      <td>164.661438</td>\n",
       "      <td>1.153232</td>\n",
       "      <td>1.663433</td>\n",
       "      <td>-0.891199</td>\n",
       "      <td>0.741835</td>\n",
       "    </tr>\n",
       "  </tbody>\n",
       "</table>\n",
       "</div>"
      ],
      "text/plain": [
       "             left-x  left-y  right-x  right-y  nose-x  nose-y  speaker  \\\n",
       "video frame                                                              \n",
       "98    0         149     181      170      175     161      62  woman-1   \n",
       "      1         149     181      170      175     161      62  woman-1   \n",
       "      2         149     181      170      175     161      62  woman-1   \n",
       "      3         149     181      170      175     161      62  woman-1   \n",
       "      4         149     181      170      175     161      62  woman-1   \n",
       "\n",
       "             grnd-ry  grnd-rx  grnd-ly  grnd-lx  left-x-mean   norm-rx  \\\n",
       "video frame                                                              \n",
       "98    0          113        9      119      -12   164.661438  1.153232   \n",
       "      1          113        9      119      -12   164.661438  1.153232   \n",
       "      2          113        9      119      -12   164.661438  1.153232   \n",
       "      3          113        9      119      -12   164.661438  1.153232   \n",
       "      4          113        9      119      -12   164.661438  1.153232   \n",
       "\n",
       "              norm-ry   norm-lx   norm-ly  \n",
       "video frame                                \n",
       "98    0      1.663433 -0.891199  0.741835  \n",
       "      1      1.663433 -0.891199  0.741835  \n",
       "      2      1.663433 -0.891199  0.741835  \n",
       "      3      1.663433 -0.891199  0.741835  \n",
       "      4      1.663433 -0.891199  0.741835  "
      ]
     },
     "execution_count": 11,
     "metadata": {},
     "output_type": "execute_result"
    }
   ],
   "source": [
    "# TODO add features for normalized by speaker values of left, right, x, y\n",
    "# Name these 'norm-rx', 'norm-ry', 'norm-lx', and 'norm-ly'\n",
    "# using Z-score scaling (X-Xmean)/Xstd\n",
    "\n",
    "def get_zScore(x, mean_,std_):  \n",
    "    return (x-mean_)/std_\n",
    "\n",
    "\n",
    "\n",
    "features_norm = ['norm-rx', 'norm-ry', 'norm-lx','norm-ly']\n",
    "locations = ['right-x', 'right-y', 'left-x', 'left-y']\n",
    "\n",
    "for norm_, loc_ in zip(features_norm, locations):\n",
    "    \n",
    "    asl.df[norm_] = get_zScore(asl.df[loc_],asl.df['speaker'].map(df_means[loc_]),asl.df['speaker'].map(df_std[loc_]))\n",
    "\n",
    "asl.df.head()\n"
   ]
  },
  {
   "cell_type": "code",
   "execution_count": 12,
   "metadata": {
    "collapsed": false
   },
   "outputs": [],
   "source": [
    "# TODO add features for polar coordinate values where the nose is the origin\n",
    "# Name these 'polar-rr', 'polar-rtheta', 'polar-lr', and 'polar-ltheta'\n",
    "# Note that 'polar-rr' and 'polar-rtheta' refer to the radius and angle\n",
    "\n",
    "\n",
    "'''\n",
    "The \"ground\" right y value: grnd-ry feature is the difference between the right-hand y value and the nose y value\n",
    "The reference is the nose\n",
    "'''\n",
    "#____________________________________________________________\n",
    "import numpy as np\n",
    "\n",
    "def get_rho(x, y):\n",
    "    \n",
    "    return np.sqrt(np.square(x) + np.square(y))\n",
    "    \n",
    "def get_theta(x, y):\n",
    "    \n",
    "    return np.arctan2(x, y)\n",
    "#_____________________________________________________________\n",
    "   \n",
    "\n",
    "asl.df['polar-rr'] = get_rho(asl.df['grnd-rx'] , asl.df['grnd-ry'] )\n",
    "asl.df['polar-rtheta'] = get_theta(asl.df['grnd-rx'] , asl.df['grnd-ry'] )\n",
    "\n",
    "asl.df['polar-lr'] = get_rho(asl.df['grnd-lx'] , asl.df['grnd-ly'])\n",
    "asl.df['polar-ltheta'] = get_theta(asl.df['grnd-lx'] , asl.df['grnd-ly'])\n",
    "\n",
    "\n",
    "features_polar = ['polar-rr', 'polar-rtheta', 'polar-lr', 'polar-ltheta']\n",
    "     "
   ]
  },
  {
   "cell_type": "code",
   "execution_count": 13,
   "metadata": {
    "collapsed": false
   },
   "outputs": [],
   "source": [
    "# TODO add features for left, right, x, y differences by one time step, i.e. the \"delta\" values discussed in the lecture\n",
    "# Name these 'delta-rx', 'delta-ry', 'delta-lx', and 'delta-ly'\n",
    "\n",
    "\n",
    "asl.df['delta-rx'] = asl.df['right-x']- asl.df['right-x'].shift(1)\n",
    "asl.df['delta-ry'] = asl.df['right-y']- asl.df['right-y'].shift(1)\n",
    "asl.df['delta-lx'] = asl.df['left-x'] - asl.df['left-x'].shift(1)\n",
    "asl.df['delta-ly'] = asl.df['left-y'] - asl.df['left-y'].shift(1)\n",
    "\n",
    "#accounting for the presence of nan in the first value.\n",
    "\n",
    "asl.df['delta-rx'].values[0]= 0\n",
    "asl.df['delta-ry'].values[0] = 0\n",
    "asl.df['delta-lx'].values[0] = 0\n",
    "asl.df['delta-ly'].values[0] = 0\n",
    "\n",
    "\n",
    "features_delta = ['delta-rx', 'delta-ry', 'delta-lx', 'delta-ly']\n"
   ]
  },
  {
   "cell_type": "code",
   "execution_count": 14,
   "metadata": {
    "collapsed": true
   },
   "outputs": [],
   "source": [
    "# TODO add features of your own design, which may be a combination of the above or something else\n",
    "# Name these whatever you would like\n",
    "\n",
    "# TODO define a list named 'features_custom' for building the training set"
   ]
  },
  {
   "cell_type": "markdown",
   "metadata": {},
   "source": [
    "#### (features_custom) The delta of the polar representation:"
   ]
  },
  {
   "cell_type": "code",
   "execution_count": 15,
   "metadata": {
    "collapsed": true
   },
   "outputs": [],
   "source": [
    "asl.df['delta-polar-rr'] = asl.df['polar-rr']- asl.df['polar-rr'].shift(1)\n",
    "asl.df['delta-polar-lr'] = asl.df['polar-lr']- asl.df['polar-lr'].shift(1)\n",
    "asl.df['delta-polar-rtheta'] = asl.df['polar-rtheta'] - asl.df['polar-rtheta'].shift(1)\n",
    "asl.df['delta-polar-ltheta'] = asl.df['polar-ltheta'] - asl.df['polar-ltheta'].shift(1)\n",
    "\n",
    "#accounting for the presence of nan in the first value.\n",
    "\n",
    "asl.df['delta-polar-rr'].values[0]= 0\n",
    "asl.df['delta-polar-lr'].values[0] = 0\n",
    "asl.df['delta-polar-rtheta'].values[0] = 0\n",
    "asl.df['delta-polar-ltheta'].values[0] = 0\n",
    "\n",
    "\n",
    "features_custom = ['delta-polar-rr', 'delta-polar-lr', 'delta-polar-rtheta', 'delta-polar-ltheta']"
   ]
  },
  {
   "cell_type": "markdown",
   "metadata": {
    "collapsed": false
   },
   "source": [
    "#### (features_custom_1) The Modified Mahalanobis Distance:"
   ]
  },
  {
   "cell_type": "code",
   "execution_count": 16,
   "metadata": {
    "collapsed": true
   },
   "outputs": [],
   "source": [
    "from sklearn.metrics.cluster import adjusted_mutual_info_score\n",
    "from scipy.spatial.distance import cosine\n",
    "\n",
    "\n",
    "'''\n",
    "The following function was adjusted from the following source:\n",
    "http://kldavenport.com/mahalanobis-distance-and-outliers/\n",
    "\n",
    "Main addition include:\n",
    "    1) Calculating the Mutual Information between two inputs\n",
    "    2) Calculating the COSINE Distance and Similarity\n",
    "    3) Merging 1&2  to adjust the x & y points.\n",
    "'''\n",
    "\n",
    "def MahalanobisDist(x, y):\n",
    "    covariance_xy = np.cov(x,y, rowvar=0)\n",
    "    inv_covariance_xy = np.linalg.inv(covariance_xy)\n",
    "    xy_mean = np.mean(x),np.mean(y)\n",
    "    x_diff = np.array([x_i - xy_mean[0] for x_i in x])\n",
    "    y_diff = np.array([y_i - xy_mean[1] for y_i in y])\n",
    "   \n",
    "    cos_simil = 1- cosine(x,y) #1 - cosine(x,y)\n",
    "    MI = adjusted_mutual_info_score(x, y)\n",
    "    \n",
    "    \n",
    "    x_diff = (MI+cos_simil)* x_diff - np.abs(MI-cos_simil)* x_diff #- (y_diff - cos_simil)\n",
    "    y_diff = (MI+cos_simil)* y_diff - np.abs(MI-cos_simil)* y_diff #(x_diff - cos_simil) \n",
    "    \n",
    "    diff_xy = np.transpose([x_diff, y_diff])\n",
    "    \n",
    "    md = []\n",
    "    for i in range(len(diff_xy)):\n",
    "        md.append(np.sqrt(np.dot(np.dot(np.transpose(diff_xy[i]),inv_covariance_xy),diff_xy[i])))\n",
    "    return md\n",
    "\n",
    "\n",
    "asl.df['A'] = MahalanobisDist(asl.df['delta-rx'],asl.df['right-x'])\n",
    "asl.df['B'] = MahalanobisDist(asl.df['delta-ry'],asl.df['right-y'])\n",
    "\n",
    "asl.df['C'] = MahalanobisDist(asl.df['delta-lx'],asl.df['left-x'])\n",
    "asl.df['D'] = MahalanobisDist(asl.df['delta-ly'],asl.df['left-y'])\n",
    "\n",
    "features_custom_1 =['A','B', 'C','D','delta-polar-rr', 'delta-polar-lr', 'delta-polar-rtheta', 'delta-polar-ltheta'  ]\n"
   ]
  },
  {
   "cell_type": "markdown",
   "metadata": {},
   "source": [
    "----\n",
    "**Question 1:**  What custom features did you choose for the features_custom set and why?\n",
    "\n",
    "**Answer 1:**\n",
    "\n",
    "- ** (features_custom) The delta of the polar representation: **: Polar features was a good starting point that produced through various experimentations a low WER compared to normalization and delta, especially for CV. I expected it to produce a perfromance if difference in values was considered. This differencing property try to capture how much difference of the current reading is from its proceddeing. This method reduces the noise by waving out close by motions.\n",
    "\n",
    "\n",
    "- ** (features_custom_1) The Modified Mahalanobis Distance: **: Motivated by the previous idea of reducing the noise of consecutive movements, I tried implementing a modified Mahlanobis Distance. In its essnse, the Mal-Distance will capture the number of standard deviations a given position is a way from the mean of the surrounding. I made use of the following heuristics before returning the final score:\n",
    "\n",
    "\n",
    "     \n",
    "    - The point is scaled by how much it is similar to other surrounding points in a deterministic sense (cosine distance) and probabilistic sense (Mutual Information). \n",
    "        \n",
    "                 (MI+cos_simil)* x_diff - np.abs(MI-cos_simil)* x_diff\n",
    "        \n",
    "        If those two measure are similar, the second term will vanish and more weight will be given to the current feature. If they were different, the original score will be decreased because of the second term\n",
    "  \n",
    "The final feature set then combines the results obtained from features_custom_1 and the ones obtained by the difference in polar representation. More analysis will be presented when answering Question 3"
   ]
  },
  {
   "cell_type": "markdown",
   "metadata": {},
   "source": [
    "----\n",
    "<a id='part1_test'></a>\n",
    "### Features Unit Testing\n",
    "Run the following unit tests as a sanity check on the defined \"ground\", \"norm\", \"polar\", and 'delta\"\n",
    "feature sets.  The test simply looks for some valid values but is not exhaustive.  However, the project should not be submitted if these tests don't pass."
   ]
  },
  {
   "cell_type": "code",
   "execution_count": 17,
   "metadata": {
    "collapsed": false
   },
   "outputs": [
    {
     "name": "stderr",
     "output_type": "stream",
     "text": [
      "....\n",
      "----------------------------------------------------------------------\n",
      "Ran 4 tests in 0.015s\n",
      "\n",
      "OK\n"
     ]
    },
    {
     "data": {
      "text/plain": [
       "<unittest.runner.TextTestResult run=4 errors=0 failures=0>"
      ]
     },
     "execution_count": 17,
     "metadata": {},
     "output_type": "execute_result"
    }
   ],
   "source": [
    "import unittest\n",
    "# import numpy as np\n",
    "\n",
    "class TestFeatures(unittest.TestCase):\n",
    "\n",
    "    def test_features_ground(self):\n",
    "        sample = (asl.df.ix[98, 1][features_ground]).tolist()\n",
    "        self.assertEqual(sample, [9, 113, -12, 119])\n",
    "\n",
    "    def test_features_norm(self):\n",
    "        sample = (asl.df.ix[98, 1][features_norm]).tolist()\n",
    "        np.testing.assert_almost_equal(sample, [ 1.153,  1.663, -0.891,  0.742], 3)\n",
    "\n",
    "    def test_features_polar(self):\n",
    "        sample = (asl.df.ix[98,1][features_polar]).tolist()\n",
    "        np.testing.assert_almost_equal(sample, [113.3578, 0.0794, 119.603, -0.1005], 3)\n",
    "\n",
    "    def test_features_delta(self):\n",
    "        sample = (asl.df.ix[98, 0][features_delta]).tolist()\n",
    "        self.assertEqual(sample, [0, 0, 0, 0])\n",
    "        sample = (asl.df.ix[98, 18][features_delta]).tolist()\n",
    "        self.assertTrue(sample in [[-16, -5, -2, 4], [-14, -9, 0, 0]], \"Sample value found was {}\".format(sample))\n",
    "                         \n",
    "suite = unittest.TestLoader().loadTestsFromModule(TestFeatures())\n",
    "unittest.TextTestRunner().run(suite)"
   ]
  },
  {
   "cell_type": "markdown",
   "metadata": {
    "collapsed": true
   },
   "source": [
    "<a id='part2_tutorial'></a>\n",
    "## PART 2: Model Selection\n",
    "### Model Selection Tutorial\n",
    "The objective of Model Selection is to tune the number of states for each word HMM prior to testing on unseen data.  In this section you will explore three methods: \n",
    "- Log likelihood using cross-validation folds (CV)\n",
    "- Bayesian Information Criterion (BIC)\n",
    "- Discriminative Information Criterion (DIC) "
   ]
  },
  {
   "cell_type": "markdown",
   "metadata": {},
   "source": [
    "##### Train a single word\n",
    "Now that we have built a training set with sequence data, we can \"train\" models for each word.  As a simple starting example, we train a single word using Gaussian hidden Markov models (HMM).   By using the `fit` method during training, the [Baum-Welch Expectation-Maximization](https://en.wikipedia.org/wiki/Baum%E2%80%93Welch_algorithm) (EM) algorithm is invoked iteratively to find the best estimate for the model *for the number of hidden states specified* from a group of sample seequences. For this example, we *assume* the correct number of hidden states is 3, but that is just a guess.  How do we know what the \"best\" number of states for training is?  We will need to find some model selection technique to choose the best parameter."
   ]
  },
  {
   "cell_type": "code",
   "execution_count": 18,
   "metadata": {
    "collapsed": false
   },
   "outputs": [
    {
     "name": "stdout",
     "output_type": "stream",
     "text": [
      "Number of states trained in model for BOOK is 3\n",
      "logL = -2331.1138127433196\n"
     ]
    }
   ],
   "source": [
    "import warnings\n",
    "from hmmlearn.hmm import GaussianHMM\n",
    "\n",
    "def train_a_word(word, num_hidden_states, features):\n",
    "    \n",
    "    warnings.filterwarnings(\"ignore\", category=DeprecationWarning)\n",
    "    training = asl.build_training(features)  \n",
    "    X, lengths = training.get_word_Xlengths(word)\n",
    "    model = GaussianHMM(n_components=num_hidden_states, n_iter=1000).fit(X, lengths)\n",
    "    logL = model.score(X, lengths)\n",
    "    return model, logL\n",
    "\n",
    "demoword = 'BOOK'\n",
    "model, logL = train_a_word(demoword, 3, features_ground)\n",
    "print(\"Number of states trained in model for {} is {}\".format(demoword, model.n_components))\n",
    "print(\"logL = {}\".format(logL))"
   ]
  },
  {
   "cell_type": "markdown",
   "metadata": {},
   "source": [
    "The HMM model has been trained and information can be pulled from the model, including means and variances for each feature and hidden state.  The [log likelihood](http://math.stackexchange.com/questions/892832/why-we-consider-log-likelihood-instead-of-likelihood-in-gaussian-distribution) for any individual sample or group of samples can also be calculated with the `score` method."
   ]
  },
  {
   "cell_type": "code",
   "execution_count": 19,
   "metadata": {
    "collapsed": false
   },
   "outputs": [
    {
     "name": "stdout",
     "output_type": "stream",
     "text": [
      "Number of states trained in model for BOOK is 3\n",
      "hidden state #0\n",
      "mean =  [ -11.45300909   94.109178     19.03512475  102.2030162 ]\n",
      "variance =  [  77.403668    203.35441965   26.68898447  156.12444034]\n",
      "\n",
      "hidden state #1\n",
      "mean =  [ -3.46504869  50.66686933  14.02391587  52.04731066]\n",
      "variance =  [ 49.12346305  43.04799144  39.35109609  47.24195772]\n",
      "\n",
      "hidden state #2\n",
      "mean =  [ -1.12415027  69.44164191  17.02866283  77.7231196 ]\n",
      "variance =  [ 19.70434594  16.83041492  30.51552305  11.03678246]\n",
      "\n"
     ]
    }
   ],
   "source": [
    "def show_model_stats(word, model):\n",
    "    print(\"Number of states trained in model for {} is {}\".format(word, model.n_components))    \n",
    "    variance = np.array([np.diag(model.covars_[i]) for i in range(model.n_components)])    \n",
    "    for i in range(model.n_components):  # for each hidden state\n",
    "        print(\"hidden state #{}\".format(i))\n",
    "        print(\"mean = \", model.means_[i])\n",
    "        print(\"variance = \", variance[i])\n",
    "        print()\n",
    "    \n",
    "#for every state, we have 4 means and 4 var\n",
    "show_model_stats(demoword, model)"
   ]
  },
  {
   "cell_type": "markdown",
   "metadata": {},
   "source": [
    "##### Try it!\n",
    "Experiment by changing the feature set, word, and/or num_hidden_states values in the next cell to see changes in values.  "
   ]
  },
  {
   "cell_type": "code",
   "execution_count": 20,
   "metadata": {
    "collapsed": false,
    "scrolled": true
   },
   "outputs": [
    {
     "name": "stdout",
     "output_type": "stream",
     "text": [
      "Number of states trained in model for JOHN is 3\n",
      "hidden state #0\n",
      "mean =  [ -21.021061     38.51024848    1.39270426  126.26889606]\n",
      "variance =  [  52.50015648   98.66709622  168.30770438  300.17991637]\n",
      "\n",
      "hidden state #1\n",
      "mean =  [ -24.92747926   61.93716342   33.40672725  178.81045936]\n",
      "variance =  [  80.27423577  400.10409204   82.68869582   16.54418295]\n",
      "\n",
      "hidden state #2\n",
      "mean =  [ -11.7408851    77.82681668    4.81285139  134.10189748]\n",
      "variance =  [  86.14500669  328.74048785  313.66048313  140.88634919]\n",
      "\n",
      "logL = -18266.910547407097\n"
     ]
    }
   ],
   "source": [
    "my_testword = 'JOHN'#'CHOCOLATE'\n",
    "model, logL = train_a_word(my_testword, 3, features_ground) # Experiment here with different parameters\n",
    "show_model_stats(my_testword, model)\n",
    "print(\"logL = {}\".format(logL))"
   ]
  },
  {
   "cell_type": "markdown",
   "metadata": {},
   "source": [
    "------"
   ]
  },
  {
   "cell_type": "code",
   "execution_count": 21,
   "metadata": {
    "collapsed": true
   },
   "outputs": [],
   "source": [
    "def predict_Features(feature_name, num_states = 3):\n",
    "    my_testword = 'JOHN'#'CHOCOLATE'\n",
    "    model, logL = train_a_word(my_testword, num_states, feature_name) # Experiment here with different parameters\n",
    "    show_model_stats(my_testword, model)\n",
    "    print(\"logL = {}\".format(logL))"
   ]
  },
  {
   "cell_type": "markdown",
   "metadata": {},
   "source": [
    "### 1. Normal Features "
   ]
  },
  {
   "cell_type": "code",
   "execution_count": 22,
   "metadata": {
    "collapsed": false
   },
   "outputs": [
    {
     "name": "stdout",
     "output_type": "stream",
     "text": [
      "Number of states trained in model for JOHN is 3\n",
      "hidden state #0\n",
      "mean =  [ 0.07528669 -0.11156619 -0.2954424   0.703788  ]\n",
      "variance =  [ 0.26110728  0.42563437  0.35497171  0.05987981]\n",
      "\n",
      "hidden state #1\n",
      "mean =  [-0.49410182 -0.60838726 -0.00531761  0.53510904]\n",
      "variance =  [ 0.07279973  0.07380867  0.08898768  0.00514101]\n",
      "\n",
      "hidden state #2\n",
      "mean =  [-0.63832309 -0.57010248  0.80687646 -0.2902217 ]\n",
      "variance =  [ 0.3125953   0.03568898  1.95090529  0.61466656]\n",
      "\n",
      "logL = -1846.7988518722534\n"
     ]
    }
   ],
   "source": [
    "predict_Features(features_norm) "
   ]
  },
  {
   "cell_type": "markdown",
   "metadata": {},
   "source": [
    "### 2. Polar Features "
   ]
  },
  {
   "cell_type": "code",
   "execution_count": 23,
   "metadata": {
    "collapsed": false
   },
   "outputs": [
    {
     "name": "stdout",
     "output_type": "stream",
     "text": [
      "Number of states trained in model for JOHN is 3\n",
      "hidden state #0\n",
      "mean =  [  4.45952797e+01  -5.13725825e-01   1.27193774e+02   1.75771579e-02]\n",
      "variance =  [  8.83814119e+01   3.39117898e-02   2.90815054e+02   1.34783291e-02]\n",
      "\n",
      "hidden state #1\n",
      "mean =  [  67.62334817   -0.39949253  182.07995164    0.18471604]\n",
      "variance =  [  3.55789337e+02   2.87143970e-02   2.19887793e+01   2.37763963e-03]\n",
      "\n",
      "hidden state #2\n",
      "mean =  [  7.92613779e+01  -1.56995363e-01   1.34868842e+02   2.67663971e-02]\n",
      "variance =  [  3.16745345e+02   1.49476965e-02   1.20134365e+02   1.77787436e-02]\n",
      "\n",
      "logL = -7636.837492407981\n"
     ]
    }
   ],
   "source": [
    "predict_Features(features_polar) "
   ]
  },
  {
   "cell_type": "markdown",
   "metadata": {},
   "source": [
    "### 3. Delta Features "
   ]
  },
  {
   "cell_type": "code",
   "execution_count": 24,
   "metadata": {
    "collapsed": false
   },
   "outputs": [
    {
     "name": "stdout",
     "output_type": "stream",
     "text": [
      "Number of states trained in model for JOHN is 3\n",
      "hidden state #0\n",
      "mean =  [-1.54687356 -4.26561816 -0.02343744 -0.16406205]\n",
      "variance =  [  7.30252625  31.59350055   9.39008894  19.7308809 ]\n",
      "\n",
      "hidden state #1\n",
      "mean =  [-1.41201746 -5.28326445  0.          0.        ]\n",
      "variance =  [  6.59634740e+00   3.54433891e+01   1.07296218e-05   1.07296218e-05]\n",
      "\n",
      "hidden state #2\n",
      "mean =  [  -8. -132.   -1.   -1.]\n",
      "variance =  [ 0.01  0.01  0.01  0.01]\n",
      "\n",
      "logL = 589.7153180756551\n"
     ]
    }
   ],
   "source": [
    " predict_Features(features_delta)  "
   ]
  },
  {
   "cell_type": "markdown",
   "metadata": {},
   "source": [
    "### 4. Custom Features"
   ]
  },
  {
   "cell_type": "code",
   "execution_count": 25,
   "metadata": {
    "collapsed": false
   },
   "outputs": [
    {
     "name": "stdout",
     "output_type": "stream",
     "text": [
      "Number of states trained in model for JOHN is 3\n",
      "hidden state #0\n",
      "mean =  [ -4.96478666e+00  -1.97370759e-05  -3.74828831e-02  -3.19214117e-05]\n",
      "variance =  [  3.28609536e+01   1.17525438e-05   2.60986327e-03   1.18860995e-05]\n",
      "\n",
      "hidden state #1\n",
      "mean =  [ -1.25087442e+02   3.55574801e+00  -2.73008703e-01   1.91570205e-02]\n",
      "variance =  [ 0.01  0.01  0.01  0.01]\n",
      "\n",
      "hidden state #2\n",
      "mean =  [ -3.66308888e+00  -2.38776799e-01  -3.73352141e-02   4.14566211e-04]\n",
      "variance =  [  2.82055957e+01   1.57640304e+01   3.74688638e-03   5.03445035e-04]\n",
      "\n",
      "logL = 5567.681673382761\n"
     ]
    }
   ],
   "source": [
    "predict_Features(features_custom,3)"
   ]
  },
  {
   "cell_type": "markdown",
   "metadata": {},
   "source": [
    "##### Visualize the hidden states\n",
    "We can plot the means and variances for each state and feature.  Try varying the number of states trained for the HMM model and examine the variances.  Are there some models that are \"better\" than others?  How can you tell?  We would like to hear what you think in the classroom online."
   ]
  },
  {
   "cell_type": "code",
   "execution_count": 26,
   "metadata": {
    "collapsed": false
   },
   "outputs": [],
   "source": [
    "%matplotlib inline"
   ]
  },
  {
   "cell_type": "code",
   "execution_count": 27,
   "metadata": {
    "collapsed": false
   },
   "outputs": [
    {
     "data": {
      "image/png": "[encoded data removed]",
      "text/plain": [
       "<matplotlib.figure.Figure at 0x21adf141400>"
      ]
     },
     "metadata": {},
     "output_type": "display_data"
    },
    {
     "data": {
      "image/png": "[encoded data removed]",
      "text/plain": [
       "<matplotlib.figure.Figure at 0x21adf22bb38>"
      ]
     },
     "metadata": {},
     "output_type": "display_data"
    },
    {
     "data": {
      "image/png": "[encoded data removed]",
      "text/plain": [
       "<matplotlib.figure.Figure at 0x21adf32de80>"
      ]
     },
     "metadata": {},
     "output_type": "display_data"
    },
    {
     "data": {
      "image/png": "[encoded data removed]",
      "text/plain": [
       "<matplotlib.figure.Figure at 0x21adf426e80>"
      ]
     },
     "metadata": {},
     "output_type": "display_data"
    }
   ],
   "source": [
    "import math\n",
    "from matplotlib import (cm, pyplot as plt, mlab)\n",
    "\n",
    "def visualize(word, model):\n",
    "    \"\"\" visualize the input model for a particular word \"\"\"\n",
    "    variance=np.array([np.diag(model.covars_[i]) for i in range(model.n_components)])\n",
    "    figures = []\n",
    "    for parm_idx in range(len(model.means_[0])):\n",
    "        xmin = int(min(model.means_[:,parm_idx]) - max(variance[:,parm_idx]))\n",
    "        xmax = int(max(model.means_[:,parm_idx]) + max(variance[:,parm_idx]))\n",
    "        fig, axs = plt.subplots(model.n_components, sharex=True, sharey=False)\n",
    "        colours = cm.rainbow(np.linspace(0, 1, model.n_components))\n",
    "        for i, (ax, colour) in enumerate(zip(axs, colours)):\n",
    "            x = np.linspace(xmin, xmax, 100)\n",
    "            mu = model.means_[i,parm_idx]\n",
    "            sigma = math.sqrt(np.diag(model.covars_[i])[parm_idx])\n",
    "            ax.plot(x, mlab.normpdf(x, mu, sigma), c=colour)\n",
    "            ax.set_title(\"{} feature {} hidden state #{}\".format(word, parm_idx, i))\n",
    "\n",
    "            ax.grid(True)\n",
    "        figures.append(plt)\n",
    "    for p in figures:\n",
    "        p.show()\n",
    "        \n",
    "visualize(my_testword, model)"
   ]
  },
  {
   "cell_type": "markdown",
   "metadata": {},
   "source": [
    "#####  ModelSelector class\n",
    "Review the `ModelSelector` class from the codebase found in the `my_model_selectors.py` module.  It is designed to be a strategy pattern for choosing different model selectors.  For the project submission in this section, subclass `SelectorModel` to implement the following model selectors.  In other words, you will write your own classes/functions in the `my_model_selectors.py` module and run them from this notebook:\n",
    "\n",
    "- `SelectorCV `:  Log likelihood with CV\n",
    "- `SelectorBIC`: BIC \n",
    "- `SelectorDIC`: DIC\n",
    "\n",
    "You will train each word in the training set with a range of values for the number of hidden states, and then score these alternatives with the model selector, choosing the \"best\" according to each strategy. The simple case of training with a constant value for `n_components` can be called using the provided `SelectorConstant` subclass as follow:"
   ]
  },
  {
   "cell_type": "code",
   "execution_count": 28,
   "metadata": {
    "collapsed": false
   },
   "outputs": [
    {
     "name": "stdout",
     "output_type": "stream",
     "text": [
      "Number of states trained in model for VEGETABLE is 3\n"
     ]
    }
   ],
   "source": [
    "from my_model_selectors import SelectorConstant\n",
    "\n",
    "training = asl.build_training(features_ground)  # Experiment here with different feature sets defined in part 1\n",
    "word = 'VEGETABLE' # Experiment here with different words\n",
    "model = SelectorConstant(training.get_all_sequences(), training.get_all_Xlengths(), word, n_constant=3).select()\n",
    "print(\"Number of states trained in model for {} is {}\".format(word, model.n_components))"
   ]
  },
  {
   "cell_type": "markdown",
   "metadata": {},
   "source": [
    "##### Cross-validation folds\n",
    "If we simply score the model with the Log Likelihood calculated from the feature sequences it has been trained on, we should expect that more complex models will have higher likelihoods. However, that doesn't tell us which would have a better likelihood score on unseen data.  The model will likely be overfit as complexity is added.  To estimate which topology model is better using only the training data, we can compare scores using cross-validation.  One technique for cross-validation is to break the training set into \"folds\" and rotate which fold is left out of training.  The \"left out\" fold scored.  This gives us a proxy method of finding the best model to use on \"unseen data\". In the following example, a set of word sequences is broken into three folds using the [scikit-learn Kfold](http://scikit-learn.org/stable/modules/generated/sklearn.model_selection.KFold.html) class object. When you implement `SelectorCV`, you will use this technique."
   ]
  },
  {
   "cell_type": "code",
   "execution_count": 29,
   "metadata": {
    "collapsed": false
   },
   "outputs": [
    {
     "name": "stdout",
     "output_type": "stream",
     "text": [
      "Train fold indices:[2 3 4 5] Test fold indices:[0 1]\n",
      "Train fold indices:[0 1 4 5] Test fold indices:[2 3]\n",
      "Train fold indices:[0 1 2 3] Test fold indices:[4 5]\n"
     ]
    }
   ],
   "source": [
    "from sklearn.model_selection import KFold     \n",
    "\n",
    "training = asl.build_training(features_ground) # Experiment here with different feature sets\n",
    "word = 'VEGETABLE' # Experiment here with different words\n",
    "word_sequences = training.get_word_sequences(word)\n",
    "split_method = KFold()\n",
    "for cv_train_idx, cv_test_idx in split_method.split(word_sequences):\n",
    "    print(\"Train fold indices:{} Test fold indices:{}\".format(cv_train_idx, cv_test_idx))  # view indices of the folds"
   ]
  },
  {
   "cell_type": "markdown",
   "metadata": {},
   "source": [
    "**Tip:** In order to run `hmmlearn` training using the X,lengths tuples on the new folds, subsets must be combined based on the indices given for the folds.  A helper utility has been provided in the `asl_utils` module named `combine_sequences` for this purpose."
   ]
  },
  {
   "cell_type": "markdown",
   "metadata": {},
   "source": [
    "##### Scoring models with other criterion\n",
    "Scoring model topologies with **BIC** balances fit and complexity within the training set for each word.  In the BIC equation, a penalty term penalizes complexity to avoid overfitting, so that it is not necessary to also use cross-validation in the selection process.  There are a number of references on the internet for this criterion.  These [slides](http://www2.imm.dtu.dk/courses/02433/doc/ch6_slides.pdf) include a formula you may find helpful for your implementation.\n",
    "\n",
    "The advantages of scoring model topologies with **DIC** over BIC are presented by Alain Biem in this [reference](http://citeseerx.ist.psu.edu/viewdoc/download?doi=10.1.1.58.6208&rep=rep1&type=pdf) (also found [here](https://pdfs.semanticscholar.org/ed3d/7c4a5f607201f3848d4c02dd9ba17c791fc2.pdf)).  DIC scores the discriminant ability of a training set for one word against competing words.  Instead of a penalty term for complexity, it provides a penalty if model liklihoods for non-matching words are too similar to model likelihoods for the correct word in the word set."
   ]
  },
  {
   "cell_type": "markdown",
   "metadata": {},
   "source": [
    "<a id='part2_submission'></a>\n",
    "### Model Selection Implementation Submission\n",
    "Implement `SelectorCV`, `SelectorBIC`, and `SelectorDIC` classes in the `my_model_selectors.py` module.  Run the selectors on the following five words. Then answer the questions about your results.\n",
    "\n",
    "**Tip:** The `hmmlearn` library may not be able to train or score all models.  Implement try/except contructs as necessary to eliminate non-viable models from consideration."
   ]
  },
  {
   "cell_type": "code",
   "execution_count": 30,
   "metadata": {
    "collapsed": false
   },
   "outputs": [],
   "source": [
    "words_to_train = ['FISH', 'BOOK', 'VEGETABLE', 'FUTURE', 'JOHN']\n",
    "import timeit"
   ]
  },
  {
   "cell_type": "code",
   "execution_count": 31,
   "metadata": {
    "collapsed": false
   },
   "outputs": [],
   "source": [
    "from importlib import reload\n",
    "import my_model_selectors\n",
    "reload(my_model_selectors)\n",
    "from my_model_selectors import SelectorCV"
   ]
  },
  {
   "cell_type": "code",
   "execution_count": 32,
   "metadata": {
    "collapsed": false
   },
   "outputs": [
    {
     "name": "stdout",
     "output_type": "stream",
     "text": [
      "Training complete for FISH with 3 states with time 0.015068048347637203 seconds\n",
      "Training complete for BOOK with 12 states with time 5.313045259195811 seconds\n",
      "Training complete for VEGETABLE with 15 states with time 1.7836752079332818 seconds\n",
      "Training complete for FUTURE with 15 states with time 5.6098547406175765 seconds\n",
      "Training complete for JOHN with 15 states with time 52.48153559918562 seconds\n"
     ]
    }
   ],
   "source": [
    "#-----------------Suggested to add these in the forum ---------------------------------------\n",
    "# https://discussions.udacity.com/t/nonetype-object-has-no-attribute-n-components/247439/12\n",
    "#--------------------------------------------------------------------------------------------\n",
    "from importlib import reload\n",
    "import my_model_selectors\n",
    "reload(my_model_selectors)\n",
    "#============================================================================================\n",
    "\n",
    "# TODO: Implement SelectorCV in my_model_selector.py\n",
    "from my_model_selectors import SelectorCV\n",
    "\n",
    "training = asl.build_training(features_ground)  # Experiment here with different feature sets defined in part 1\n",
    "sequences = training.get_all_sequences()\n",
    "Xlengths = training.get_all_Xlengths()\n",
    "for word in words_to_train:\n",
    "    start = timeit.default_timer()\n",
    "    model = SelectorCV(sequences, Xlengths, word, \n",
    "                    min_n_components=2, max_n_components=15, random_state = 14).select()\n",
    "    end = timeit.default_timer()-start\n",
    "    if model is not None:\n",
    "        print(\"Training complete for {} with {} states with time {} seconds\".format(word, model.n_components, end))\n",
    "    else:\n",
    "        print(\"Training failed for {}\".format(word))"
   ]
  },
  {
   "cell_type": "code",
   "execution_count": 33,
   "metadata": {
    "collapsed": false
   },
   "outputs": [
    {
     "name": "stdout",
     "output_type": "stream",
     "text": [
      "Training complete for FISH with 5 states with time 0.31185560276858837 seconds\n",
      "Training complete for BOOK with 8 states with time 1.8386793227449232 seconds\n",
      "Training complete for VEGETABLE with 9 states with time 0.6255638038401088 seconds\n",
      "Training complete for FUTURE with 9 states with time 1.9117657487184374 seconds\n",
      "Training complete for JOHN with 13 states with time 18.305693649007495 seconds\n"
     ]
    }
   ],
   "source": [
    "#-----------------Suggested to add these in the forum ---------------------------------------\n",
    "# https://discussions.udacity.com/t/nonetype-object-has-no-attribute-n-components/247439/12\n",
    "#--------------------------------------------------------------------------------------------\n",
    "from importlib import reload\n",
    "import my_model_selectors\n",
    "reload(my_model_selectors)\n",
    "#============================================================================================\n",
    "\n",
    "# TODO: Implement SelectorBIC in module my_model_selectors.py\n",
    "from my_model_selectors import SelectorBIC\n",
    "\n",
    "training = asl.build_training(features_ground)  # Experiment here with different feature sets defined in part 1\n",
    "sequences = training.get_all_sequences()\n",
    "Xlengths = training.get_all_Xlengths()\n",
    "for word in words_to_train:\n",
    "    start = timeit.default_timer()\n",
    "    model = SelectorBIC(sequences, Xlengths, word, \n",
    "                    min_n_components=2, max_n_components=15, random_state = 14).select()\n",
    "    end = timeit.default_timer()-start\n",
    "    if model is not None:\n",
    "        print(\"Training complete for {} with {} states with time {} seconds\".format(word, model.n_components, end))\n",
    "    else:\n",
    "        print(\"Training failed for {}\".format(word))"
   ]
  },
  {
   "cell_type": "code",
   "execution_count": 34,
   "metadata": {
    "collapsed": false
   },
   "outputs": [
    {
     "name": "stdout",
     "output_type": "stream",
     "text": [
      "Training complete for FISH with 3 states with time 0.7746524803636703 seconds\n",
      "Training complete for BOOK with 15 states with time 3.6000883611479537 seconds\n",
      "Training complete for VEGETABLE with 15 states with time 2.6357038753874633 seconds\n",
      "Training complete for FUTURE with 15 states with time 3.695542194081014 seconds\n",
      "Training complete for JOHN with 15 states with time 19.51590454010214 seconds\n"
     ]
    }
   ],
   "source": [
    "#-----------------Suggested to add these in the forum ---------------------------------------\n",
    "# https://discussions.udacity.com/t/nonetype-object-has-no-attribute-n-components/247439/12\n",
    "#--------------------------------------------------------------------------------------------\n",
    "from importlib import reload\n",
    "import my_model_selectors\n",
    "reload(my_model_selectors)\n",
    "#============================================================================================\n",
    "\n",
    "\n",
    "# TODO: Implement SelectorDIC in module my_model_selectors.py\n",
    "from my_model_selectors import SelectorDIC\n",
    "\n",
    "training = asl.build_training(features_ground)  # Experiment here with different feature sets defined in part 1\n",
    "sequences = training.get_all_sequences()\n",
    "Xlengths = training.get_all_Xlengths()\n",
    "for word in words_to_train:\n",
    "    start = timeit.default_timer()\n",
    "    model = SelectorDIC(sequences, Xlengths, word, \n",
    "                    min_n_components=2, max_n_components=15, random_state = 14).select()\n",
    "    end = timeit.default_timer()-start\n",
    "    if model is not None:\n",
    "        print(\"Training complete for {} with {} states with time {} seconds\".format(word, model.n_components, end))\n",
    "    else:\n",
    "        print(\"Training failed for {}\".format(word))"
   ]
  },
  {
   "cell_type": "markdown",
   "metadata": {},
   "source": [
    "**Question 2:**  Compare and contrast the possible advantages and disadvantages of the various model selectors implemented.\n",
    "\n",
    "**Answer 2:**\n",
    "\n",
    "\n",
    "\n",
    "\n",
    "\n"
   ]
  },
  {
   "cell_type": "markdown",
   "metadata": {},
   "source": [
    "** BACKGROUND **\n",
    "\n",
    "* Model selection provides a tool for configuring HMM parameters. Choosing an HMM topology is very crucial for achieving a high-performing system and directly affects the modeling and includes deciding on the \n",
    "\n",
    "    - number of states, \n",
    "    - the number of mixtures per state\n",
    "    - the transition between states, \n",
    "\n",
    "  \n",
    "\n",
    "* Rather than heuristically choosing a **constant** HMM topology, three alternative methods were implemented in corrosponding derived classes of **ModelSelector** in order to compare their performance. These classes are:\n",
    "\n",
    "    1. SelectorCV(ModelSelector): includes select method that implements Corss validation \n",
    "    2. SelectorBIC(ModelSelector): includes select method that implements Bayesian Information Criterion\n",
    "    3. SelectorDIC(ModelSelector): includes select method that implements Discriminative Information Criterion\n",
    "\n",
    "\n",
    "** COMPARISON **\n",
    "\n",
    "- **Corss validation** tries to tune the log-likelihood of a given occurence and chooses the best estimate by training. It tires to avoid overfitting by scrambling input data and preserving some portion for validation purposes. Generally speaking, the likelihood criterion is a poor choice for model selection as the complexity increases incrementally with the number of parameters.\n",
    "\n",
    "\n",
    "- **BIC** penalizes large-size models and focuses on estimating models using within-class statistics, without regard to competing classification categories. When it comes to utilizing Bayesian techniques to HMM, there is no guarantee that the resulting model are optimal in regard to error minimization.\n",
    "\n",
    "\n",
    "- **DIC**, on the other hand, penalizes the similarity among different words enabling choosing the model that is most likely to be distinctive. For achieving that DIC introduces an anti-evidence term that measures capacity of the corresponding model to generate data belonging to competing classes. By choosing the model which maximizes the evidence, and minimize the antievidences, the result is the best generative model for the correct class and the worst generative model for the competitive classes \n",
    "\n",
    "\n",
    "\n",
    "\n",
    "---\n",
    "** Main Ref. **\n",
    "_\"A model selection criterion for classification: Application to hmm topology optimization.\" Document Analysis and Recognition, 2003. Proceedings. Seventh International Conference on. IEEE, 2003._"
   ]
  },
  {
   "cell_type": "markdown",
   "metadata": {},
   "source": [
    "<a id='part2_test'></a>\n",
    "### Model Selector Unit Testing\n",
    "Run the following unit tests as a sanity check on the implemented model selectors.  The test simply looks for valid interfaces  but is not exhaustive. However, the project should not be submitted if these tests don't pass."
   ]
  },
  {
   "cell_type": "code",
   "execution_count": 35,
   "metadata": {
    "collapsed": false
   },
   "outputs": [
    {
     "name": "stderr",
     "output_type": "stream",
     "text": [
      "....\n",
      "----------------------------------------------------------------------\n",
      "Ran 4 tests in 61.452s\n",
      "\n",
      "OK\n"
     ]
    },
    {
     "data": {
      "text/plain": [
       "<unittest.runner.TextTestResult run=4 errors=0 failures=0>"
      ]
     },
     "execution_count": 35,
     "metadata": {},
     "output_type": "execute_result"
    }
   ],
   "source": [
    "from asl_test_model_selectors import TestSelectors\n",
    "suite = unittest.TestLoader().loadTestsFromModule(TestSelectors())\n",
    "unittest.TextTestRunner().run(suite)"
   ]
  },
  {
   "cell_type": "markdown",
   "metadata": {
    "collapsed": false
   },
   "source": [
    "<a id='part3_tutorial'></a>\n",
    "## PART 3: Recognizer\n",
    "The objective of this section is to \"put it all together\".  Using the four feature sets created and the three model selectors, you will experiment with the models and present your results.  Instead of training only five specific words as in the previous section, train the entire set with a feature set and model selector strategy.  \n",
    "### Recognizer Tutorial\n",
    "##### Train the full training set\n",
    "The following example trains the entire set with the example `features_ground` and `SelectorConstant` features and model selector.  Use this pattern for you experimentation and final submission cells.\n",
    "\n"
   ]
  },
  {
   "cell_type": "code",
   "execution_count": 36,
   "metadata": {
    "collapsed": false
   },
   "outputs": [
    {
     "name": "stdout",
     "output_type": "stream",
     "text": [
      "Number of word models returned = 112\n"
     ]
    }
   ],
   "source": [
    "# autoreload for automatically reloading changes made in my_model_selectors and my_recognizer\n",
    "%load_ext autoreload\n",
    "%autoreload 2\n",
    "\n",
    "from my_model_selectors import SelectorConstant\n",
    "\n",
    "def train_all_words(features, model_selector):\n",
    "    training = asl.build_training(features)  # Experiment here with different feature sets defined in part 1\n",
    "    sequences = training.get_all_sequences()\n",
    "    Xlengths = training.get_all_Xlengths()\n",
    "    model_dict = {}\n",
    "    for word in training.words:\n",
    "        model = model_selector(sequences, Xlengths, word, \n",
    "                        n_constant=3).select()\n",
    "        model_dict[word]=model\n",
    "    return model_dict\n",
    "\n",
    "models = train_all_words(features_ground, SelectorConstant)\n",
    "print(\"Number of word models returned = {}\".format(len(models)))"
   ]
  },
  {
   "cell_type": "markdown",
   "metadata": {},
   "source": [
    "##### Load the test set\n",
    "The `build_test` method in `ASLdb` is similar to the `build_training` method already presented, but there are a few differences:\n",
    "- the object is type `SinglesData` \n",
    "- the internal dictionary keys are the index of the test word rather than the word itself\n",
    "- the getter methods are `get_all_sequences`, `get_all_Xlengths`, `get_item_sequences` and `get_item_Xlengths`"
   ]
  },
  {
   "cell_type": "code",
   "execution_count": 37,
   "metadata": {
    "collapsed": false
   },
   "outputs": [
    {
     "name": "stdout",
     "output_type": "stream",
     "text": [
      "Number of test set items: 178\n",
      "Number of test set sentences: 40\n"
     ]
    }
   ],
   "source": [
    "test_set = asl.build_test(features_ground)\n",
    "print(\"Number of test set items: {}\".format(test_set.num_items))\n",
    "print(\"Number of test set sentences: {}\".format(len(test_set.sentences_index)))"
   ]
  },
  {
   "cell_type": "markdown",
   "metadata": {},
   "source": [
    "<a id='part3_submission'></a>\n",
    "### Recognizer Implementation Submission\n",
    "For the final project submission, students must implement a recognizer following guidance in the `my_recognizer.py` module.  Experiment with the four feature sets and the three model selection methods (that's 12 possible combinations). You can add and remove cells for experimentation or run the recognizers locally in some other way during your experiments, but retain the results for your discussion.  For submission, you will provide code cells of **only three** interesting combinations for your discussion (see questions below). At least one of these should produce a word error rate of less than 60%, i.e. WER < 0.60 . \n",
    "\n",
    "**Tip:** The hmmlearn library may not be able to train or score all models.  Implement try/except contructs as necessary to eliminate non-viable models from consideration."
   ]
  },
  {
   "cell_type": "code",
   "execution_count": 38,
   "metadata": {
    "collapsed": false
   },
   "outputs": [],
   "source": [
    "# TODO implement the recognize method in my_recognizer\n",
    "from my_recognizer import recognize\n",
    "from asl_utils import show_errors\n",
    "\n",
    "import warnings\n",
    "warnings.filterwarnings('ignore')"
   ]
  },
  {
   "cell_type": "markdown",
   "metadata": {},
   "source": [
    "### Option 1: \n",
    "\n",
    "- **Feature Set**           : features_custom\n",
    "- ** Parameter Selection**  : SelectorCV"
   ]
  },
  {
   "cell_type": "code",
   "execution_count": 39,
   "metadata": {
    "collapsed": false
   },
   "outputs": [
    {
     "name": "stdout",
     "output_type": "stream",
     "text": [
      "\n",
      "**** WER = 0.5730337078651685\n",
      "Total correct: 76 out of 178\n",
      "Video  Recognized                                                    Correct\n",
      "=====================================================================================================\n",
      "  100: *IX NEW CAR *HOUSE                                            POSS NEW CAR BREAK-DOWN\n",
      "    2: *IX *IX HOMEWORK                                              JOHN WRITE HOMEWORK\n",
      "   67: JOHN *IX *IX *GIVE3 HOUSE                                     JOHN FUTURE NOT BUY HOUSE\n",
      "    7: JOHN *FRIEND GO *GIVE3                                        JOHN CAN GO CAN\n",
      "  201: JOHN *NOT *WHO *JOHN BUY HOUSE                                JOHN TELL MARY IX-1P BUY HOUSE\n",
      "   74: JOHN *IX *WHO *IX                                             JOHN NOT VISIT MARY\n",
      "  119: *JOHN *BUY1 IX CAR *IX                                        SUE BUY IX CAR BLUE\n",
      "   12: JOHN CAN *BROTHER CAN                                         JOHN CAN GO CAN\n",
      "   77: *JOHN BLAME MARY                                              ANN BLAME MARY\n",
      "  142: JOHN BUY YESTERDAY WHAT *MARY                                 JOHN BUY YESTERDAY WHAT BOOK\n",
      "  107: JOHN *IX FRIEND *WHO *JOHN                                    JOHN POSS FRIEND HAVE CANDY\n",
      "   84: *JOHN *GIVE1 *IX BOOK                                         IX-1P FIND SOMETHING-ONE BOOK\n",
      "   21: JOHN *MARY *HOMEWORK *WHO *HOUSE *FUTURE *FUTURE *MARY        JOHN FISH WONT EAT BUT CAN EAT CHICKEN\n",
      "   25: JOHN *IX *JOHN IX IX                                          JOHN LIKE IX IX IX\n",
      "   89: *GO1 IX GIVE *GIVE *GO *CAR *CAN                              JOHN IX GIVE MAN IX NEW COAT\n",
      "   71: JOHN *JOHN *GO *HOMEWORK                                      JOHN WILL VISIT MARY\n",
      "   92: JOHN *IX IX *IX WOMAN *CAR                                    JOHN GIVE IX SOMETHING-ONE WOMAN BOOK\n",
      "   90: JOHN *IX IX *IX *IX *LOVE                                     JOHN GIVE IX SOMETHING-ONE WOMAN BOOK\n",
      "   30: JOHN *MARY IX *JOHN IX                                        JOHN LIKE IX IX IX\n",
      "  193: *IX *IX *HOUSE BOX                                            JOHN GIVE GIRL BOX\n",
      "   36: *JOHN *JOHN *IX IX *MARY *MARY                                MARY VEGETABLE KNOW IX LIKE CORN1\n",
      "  139: JOHN *HOUSE WHAT *JOHN *CAR                                   JOHN BUY WHAT YESTERDAY BOOK\n",
      "  167: JOHN *JOHN *IX LOVE MARY                                      JOHN IX SAY LOVE MARY\n",
      "   40: JOHN IX *JOHN MARY *IX                                        JOHN IX THINK MARY LOVE\n",
      "   28: JOHN *MARY *MARY IX IX                                        JOHN LIKE IX IX IX\n",
      "  171: JOHN *JOHN BLAME                                              JOHN MARY BLAME\n",
      "   43: JOHN *IX *GO HOUSE                                            JOHN MUST BUY HOUSE\n",
      "  108: *IX ARRIVE                                                    WOMAN ARRIVE\n",
      "  174: *GIVE1 *ARRIVE GIVE1 *MARY *CAR                               PEOPLE GROUP GIVE1 JANA TOY\n",
      "  113: *JOHN CAR *MARY *JOHN *IX                                     IX CAR BLUE SUE BUY\n",
      "   50: *JOHN JOHN BUY CAR *VISIT                                     FUTURE JOHN BUY CAR SHOULD\n",
      "  199: *JOHN *ARRIVE *MARY                                           LIKE CHOCOLATE WHO\n",
      "  158: LOVE JOHN *JOHN                                               LOVE JOHN WHO\n",
      "   54: JOHN *IX *JOHN BUY HOUSE                                      JOHN SHOULD NOT BUY HOUSE\n",
      "  105: JOHN *MARY                                                    JOHN LEG\n",
      "  184: ALL *BROTHER *GIVE1 *MANY *MARY                               ALL BOY GIVE TEACHER APPLE\n",
      "   57: JOHN *IX *IX *IX                                              JOHN DECIDE VISIT MARY\n",
      "  122: JOHN *WRITE BOOK                                              JOHN READ BOOK\n",
      "  189: JOHN *IX *IX *BOOK                                            JOHN GIVE GIRL BOX\n",
      "  181: JOHN ARRIVE                                                   JOHN ARRIVE\n",
      "Wall time: 3min 26s\n"
     ]
    }
   ],
   "source": [
    "%%time\n",
    "\n",
    "#features_custom,features_custom, features_delta, features_polar, features_norm\n",
    "# SelectorBIC ,SelectorDIC, SelectorCV\n",
    "\n",
    "features = features_custom              #features_ground # change as needed\n",
    "model_selector = SelectorCV             #   SelectorConstant # change as needed\n",
    "\n",
    "# TODO Recognize the test set and display the result with the show_errors method\n",
    "models = train_all_words(features, model_selector)\n",
    "test_set = asl.build_test(features)\n",
    "probabilities, guesses = recognize(models, test_set)\n",
    "\n",
    "show_errors(guesses, test_set)"
   ]
  },
  {
   "cell_type": "markdown",
   "metadata": {},
   "source": [
    "### Option 2: \n",
    "\n",
    "- **Feature Set**           : features_polar\n",
    "- ** Parameter Selection**  : SelectorCV"
   ]
  },
  {
   "cell_type": "code",
   "execution_count": 40,
   "metadata": {
    "collapsed": false
   },
   "outputs": [
    {
     "name": "stdout",
     "output_type": "stream",
     "text": [
      "\n",
      "**** WER = 0.5280898876404494\n",
      "Total correct: 84 out of 178\n",
      "Video  Recognized                                                    Correct\n",
      "=====================================================================================================\n",
      "  100: POSS NEW CAR BREAK-DOWN                                       POSS NEW CAR BREAK-DOWN\n",
      "    2: JOHN WRITE HOMEWORK                                           JOHN WRITE HOMEWORK\n",
      "   67: *SHOULD FUTURE *MARY BUY HOUSE                                JOHN FUTURE NOT BUY HOUSE\n",
      "    7: JOHN CAN GO CAN                                               JOHN CAN GO CAN\n",
      "  201: JOHN *MAN *LOVE *JOHN BUY HOUSE                               JOHN TELL MARY IX-1P BUY HOUSE\n",
      "   74: *IX *GO *GO *VISIT                                            JOHN NOT VISIT MARY\n",
      "  119: *MARY *BUY1 IX *BLAME *IX                                     SUE BUY IX CAR BLUE\n",
      "   12: JOHN *WHAT *JOHN CAN                                          JOHN CAN GO CAN\n",
      "   77: *JOHN *GIVE1 MARY                                             ANN BLAME MARY\n",
      "  142: JOHN BUY YESTERDAY WHAT BOOK                                  JOHN BUY YESTERDAY WHAT BOOK\n",
      "  107: JOHN POSS *HAVE HAVE *MARY                                    JOHN POSS FRIEND HAVE CANDY\n",
      "   84: *HOMEWORK *GIVE1 *HOMEWORK *COAT                              IX-1P FIND SOMETHING-ONE BOOK\n",
      "   21: JOHN *HOMEWORK *JOHN *PREFER BUT *WHAT *FUTURE *WHO           JOHN FISH WONT EAT BUT CAN EAT CHICKEN\n",
      "   25: JOHN *IX IX *WHO IX                                           JOHN LIKE IX IX IX\n",
      "   89: *MAN *GIVE *IX *IX IX *ARRIVE *BOOK                           JOHN IX GIVE MAN IX NEW COAT\n",
      "   71: JOHN *FUTURE *GIVE1 MARY                                      JOHN WILL VISIT MARY\n",
      "   92: JOHN *IX IX *IX *IX BOOK                                      JOHN GIVE IX SOMETHING-ONE WOMAN BOOK\n",
      "   90: JOHN GIVE IX SOMETHING-ONE WOMAN *ARRIVE                      JOHN GIVE IX SOMETHING-ONE WOMAN BOOK\n",
      "   30: JOHN LIKE *MARY *MARY *MARY                                   JOHN LIKE IX IX IX\n",
      "  193: JOHN *GO *YESTERDAY BOX                                       JOHN GIVE GIRL BOX\n",
      "   36: *IX *VISIT *GIVE *GIVE *MARY *MARY                            MARY VEGETABLE KNOW IX LIKE CORN1\n",
      "  139: JOHN *ARRIVE WHAT *MARY *ARRIVE                               JOHN BUY WHAT YESTERDAY BOOK\n",
      "  167: JOHN *MARY *VISIT LOVE MARY                                   JOHN IX SAY LOVE MARY\n",
      "   40: JOHN *GO *DECIDE *JOHN *MARY                                  JOHN IX THINK MARY LOVE\n",
      "   28: JOHN *FUTURE IX *FUTURE *LOVE                                 JOHN LIKE IX IX IX\n",
      "  171: *IX MARY BLAME                                                JOHN MARY BLAME\n",
      "   43: JOHN *IX BUY HOUSE                                            JOHN MUST BUY HOUSE\n",
      "  108: *LOVE *HOMEWORK                                               WOMAN ARRIVE\n",
      "  174: *JOHN *GIVE3 GIVE1 *YESTERDAY *JOHN                           PEOPLE GROUP GIVE1 JANA TOY\n",
      "  113: IX CAR *IX *MARY *JOHN                                        IX CAR BLUE SUE BUY\n",
      "   50: *JOHN *SEE BUY CAR *JOHN                                      FUTURE JOHN BUY CAR SHOULD\n",
      "  199: *HOMEWORK *STUDENT *GO                                        LIKE CHOCOLATE WHO\n",
      "  158: LOVE JOHN WHO                                                 LOVE JOHN WHO\n",
      "   54: JOHN SHOULD NOT BUY HOUSE                                     JOHN SHOULD NOT BUY HOUSE\n",
      "  105: JOHN *SEE                                                     JOHN LEG\n",
      "  184: ALL BOY *GIVE1 TEACHER *YESTERDAY                             ALL BOY GIVE TEACHER APPLE\n",
      "   57: *MARY *GO *GO MARY                                            JOHN DECIDE VISIT MARY\n",
      "  122: JOHN *GIVE1 BOOK                                              JOHN READ BOOK\n",
      "  189: *MARY *GO *YESTERDAY BOX                                      JOHN GIVE GIRL BOX\n",
      "  181: *EAT ARRIVE                                                   JOHN ARRIVE\n",
      "Wall time: 2min 35s\n"
     ]
    }
   ],
   "source": [
    "%%time\n",
    "\n",
    "\n",
    "features = features_polar              #features_ground # change as needed\n",
    "model_selector = SelectorCV          #   SelectorConstant # change as needed\n",
    "\n",
    "# TODO Recognize the test set and display the result with the show_errors method\n",
    "models = train_all_words(features, model_selector)\n",
    "test_set = asl.build_test(features)\n",
    "probabilities, guesses = recognize(models, test_set)\n",
    "\n",
    "show_errors(guesses, test_set)"
   ]
  },
  {
   "cell_type": "markdown",
   "metadata": {},
   "source": [
    "### Option 3: \n",
    "\n",
    "- **Feature Set**           : features_delta\n",
    "- ** Parameter Selection**  : SelectorDIC"
   ]
  },
  {
   "cell_type": "code",
   "execution_count": 41,
   "metadata": {
    "collapsed": false
   },
   "outputs": [
    {
     "name": "stdout",
     "output_type": "stream",
     "text": [
      "\n",
      "**** WER = 0.5955056179775281\n",
      "Total correct: 72 out of 178\n",
      "Video  Recognized                                                    Correct\n",
      "=====================================================================================================\n",
      "  100: POSS NEW CAR BREAK-DOWN                                       POSS NEW CAR BREAK-DOWN\n",
      "    2: JOHN WRITE *ARRIVE                                            JOHN WRITE HOMEWORK\n",
      "   67: *MARY *IX *JOHN *ARRIVE HOUSE                                 JOHN FUTURE NOT BUY HOUSE\n",
      "    7: *MARY *CAR GO CAN                                             JOHN CAN GO CAN\n",
      "  201: JOHN *GIVE1 *IX *WOMAN *ARRIVE HOUSE                          JOHN TELL MARY IX-1P BUY HOUSE\n",
      "   74: *GO *VISIT VISIT MARY                                         JOHN NOT VISIT MARY\n",
      "  119: SUE *BUY1 IX *JOHN *GO                                        SUE BUY IX CAR BLUE\n",
      "   12: JOHN *WHAT *ARRIVE CAN                                        JOHN CAN GO CAN\n",
      "   77: ANN BLAME MARY                                                ANN BLAME MARY\n",
      "  142: JOHN BUY YESTERDAY WHAT BOOK                                  JOHN BUY YESTERDAY WHAT BOOK\n",
      "  107: *MARY POSS *BOX *MARY *TOY1                                   JOHN POSS FRIEND HAVE CANDY\n",
      "   84: *JOHN *ARRIVE *VISIT BOOK                                     IX-1P FIND SOMETHING-ONE BOOK\n",
      "   21: *MARY *JOHN *JOHN *BLAME *CAR *CAR *FUTURE CHICKEN            JOHN FISH WONT EAT BUT CAN EAT CHICKEN\n",
      "   25: JOHN LIKE IX *LIKE IX                                         JOHN LIKE IX IX IX\n",
      "   89: *MARY *POSS *IX *IX IX *ARRIVE *BREAK-DOWN                    JOHN IX GIVE MAN IX NEW COAT\n",
      "   71: JOHN *FUTURE VISIT MARY                                       JOHN WILL VISIT MARY\n",
      "   92: JOHN *IX IX *IX *LOVE BOOK                                    JOHN GIVE IX SOMETHING-ONE WOMAN BOOK\n",
      "   90: *SELF *IX IX *IX WOMAN BOOK                                   JOHN GIVE IX SOMETHING-ONE WOMAN BOOK\n",
      "   30: *IX-1P *CHOCOLATE *MARY *LOVE *LOVE                           JOHN LIKE IX IX IX\n",
      "  193: *LEAVE *YESTERDAY *YESTERDAY BOX                              JOHN GIVE GIRL BOX\n",
      "   36: MARY *MARY *YESTERDAY *SHOOT LIKE *IX                         MARY VEGETABLE KNOW IX LIKE CORN1\n",
      "  139: JOHN *BUY1 *CAR *JOHN BOOK                                    JOHN BUY WHAT YESTERDAY BOOK\n",
      "  167: JOHN IX *SAY-1P LOVE *IX                                      JOHN IX SAY LOVE MARY\n",
      "   40: *MARY *JOHN *FUTURE1 *VEGETABLE *MARY                         JOHN IX THINK MARY LOVE\n",
      "   28: *ANN *ANN IX *MARY IX                                         JOHN LIKE IX IX IX\n",
      "  171: *MARY *JOHN BLAME                                             JOHN MARY BLAME\n",
      "   43: JOHN *FUTURE BUY HOUSE                                        JOHN MUST BUY HOUSE\n",
      "  108: *LOVE *JOHN                                                   WOMAN ARRIVE\n",
      "  174: *CAR *GIVE1 GIVE1 *YESTERDAY *CAR                             PEOPLE GROUP GIVE1 JANA TOY\n",
      "  113: *SHOULD CAR *IX *JOHN *BOX                                    IX CAR BLUE SUE BUY\n",
      "   50: *POSS *SEE *JOHN CAR *IX                                      FUTURE JOHN BUY CAR SHOULD\n",
      "  199: *JOHN *ARRIVE *JOHN                                           LIKE CHOCOLATE WHO\n",
      "  158: LOVE JOHN WHO                                                 LOVE JOHN WHO\n",
      "   54: JOHN *FUTURE *SHOULD *ARRIVE HOUSE                            JOHN SHOULD NOT BUY HOUSE\n",
      "  105: JOHN *POSS                                                    JOHN LEG\n",
      "  184: *IX BOY *GIVE1 TEACHER APPLE                                  ALL BOY GIVE TEACHER APPLE\n",
      "   57: *SHOOT *IX *JOHN *VISIT                                       JOHN DECIDE VISIT MARY\n",
      "  122: JOHN *GIVE1 BOOK                                              JOHN READ BOOK\n",
      "  189: *MARY *MARY *YESTERDAY BOX                                    JOHN GIVE GIRL BOX\n",
      "  181: JOHN *BOX                                                     JOHN ARRIVE\n",
      "Wall time: 3min 13s\n"
     ]
    }
   ],
   "source": [
    "%%time\n",
    "\n",
    "\n",
    "import warnings\n",
    "warnings.filterwarnings('ignore')\n",
    "\n",
    "features = features_norm              #features_ground # change as needed\n",
    "model_selector = SelectorDIC          #   SelectorConstant # change as needed\n",
    "\n",
    "# TODO Recognize the test set and display the result with the show_errors method\n",
    "models = train_all_words(features, model_selector)\n",
    "test_set = asl.build_test(features)\n",
    "probabilities, guesses = recognize(models, test_set)\n",
    "\n",
    "show_errors(guesses, test_set)"
   ]
  },
  {
   "cell_type": "markdown",
   "metadata": {
    "collapsed": false
   },
   "source": [
    "### Option 4: \n",
    "\n",
    "- **Feature Set**           : features_custom_1\n",
    "- ** Parameter Selection**  : SelectorBIC"
   ]
  },
  {
   "cell_type": "code",
   "execution_count": 42,
   "metadata": {
    "collapsed": false
   },
   "outputs": [
    {
     "name": "stdout",
     "output_type": "stream",
     "text": [
      "\n",
      "**** WER = 0.5842696629213483\n",
      "Total correct: 74 out of 178\n",
      "Video  Recognized                                                    Correct\n",
      "=====================================================================================================\n",
      "  100: POSS NEW CAR BREAK-DOWN                                       POSS NEW CAR BREAK-DOWN\n",
      "    2: JOHN *MARY *HOUSE                                             JOHN WRITE HOMEWORK\n",
      "   67: JOHN FUTURE *APPLE BUY HOUSE                                  JOHN FUTURE NOT BUY HOUSE\n",
      "    7: JOHN *HAVE GO *STUDENT                                        JOHN CAN GO CAN\n",
      "  201: JOHN *MARY MARY *JOHN BUY HOUSE                               JOHN TELL MARY IX-1P BUY HOUSE\n",
      "   74: JOHN *JOHN *GIVE MARY                                         JOHN NOT VISIT MARY\n",
      "  119: *JOHN *BUY1 *WHAT CAR *JOHN                                   SUE BUY IX CAR BLUE\n",
      "   12: JOHN CAN *ARRIVE CAN                                          JOHN CAN GO CAN\n",
      "   77: *JOHN *VISIT MARY                                             ANN BLAME MARY\n",
      "  142: JOHN BUY *FUTURE WHAT *NEW-YORK                               JOHN BUY YESTERDAY WHAT BOOK\n",
      "  107: JOHN *IX *HAVE HAVE *JOHN                                     JOHN POSS FRIEND HAVE CANDY\n",
      "   84: *JOHN *PEOPLE *FUTURE BOOK                                    IX-1P FIND SOMETHING-ONE BOOK\n",
      "   21: JOHN *MARY *FUTURE *MARY *CAR *HOMEWORK *FUTURE *MARY         JOHN FISH WONT EAT BUT CAN EAT CHICKEN\n",
      "   25: JOHN *SHOULD *JOHN *SHOULD *MARY                              JOHN LIKE IX IX IX\n",
      "   89: *MARY IX *IX *BOY *THROW *CAR *HOUSE                          JOHN IX GIVE MAN IX NEW COAT\n",
      "   71: JOHN *JOHN VISIT *CAR                                         JOHN WILL VISIT MARY\n",
      "   92: JOHN *IX IX *IX *IX *HOUSE                                    JOHN GIVE IX SOMETHING-ONE WOMAN BOOK\n",
      "   90: JOHN *GIRL IX *IX WOMAN *JOHN                                 JOHN GIVE IX SOMETHING-ONE WOMAN BOOK\n",
      "   30: JOHN *MARY *LOVE *JOHN IX                                     JOHN LIKE IX IX IX\n",
      "  193: JOHN *IX *CORN BOX                                            JOHN GIVE GIRL BOX\n",
      "   36: *JOHN *JOHN *YESTERDAY IX *GO1 *MARY                          MARY VEGETABLE KNOW IX LIKE CORN1\n",
      "  139: JOHN *BUY1 WHAT *SEE *LOVE                                    JOHN BUY WHAT YESTERDAY BOOK\n",
      "  167: JOHN *GIRL *IX LOVE *CHOCOLATE                                JOHN IX SAY LOVE MARY\n",
      "   40: JOHN IX *JOHN *JOHN LOVE                                      JOHN IX THINK MARY LOVE\n",
      "   28: JOHN *MARY *MARY IX *SHOULD                                   JOHN LIKE IX IX IX\n",
      "  171: JOHN *JOHN BLAME                                              JOHN MARY BLAME\n",
      "   43: JOHN *MARY BUY HOUSE                                          JOHN MUST BUY HOUSE\n",
      "  108: *JOHN ARRIVE                                                  WOMAN ARRIVE\n",
      "  174: *GIVE1 *GO1 GIVE1 *MARY *FINISH                               PEOPLE GROUP GIVE1 JANA TOY\n",
      "  113: IX *PEOPLE *MARY *JOHN *BUY1                                  IX CAR BLUE SUE BUY\n",
      "   50: *JOHN *VISIT BUY CAR *MARY                                    FUTURE JOHN BUY CAR SHOULD\n",
      "  199: *JOHN *MARY *MARY                                             LIKE CHOCOLATE WHO\n",
      "  158: LOVE JOHN *JOHN                                               LOVE JOHN WHO\n",
      "   54: JOHN *MARY *JOHN BUY HOUSE                                    JOHN SHOULD NOT BUY HOUSE\n",
      "  105: JOHN *MARY                                                    JOHN LEG\n",
      "  184: *IX *VISIT *GIVE1 TEACHER *MARY                               ALL BOY GIVE TEACHER APPLE\n",
      "   57: *IX *JOHN *GIVE *IX                                           JOHN DECIDE VISIT MARY\n",
      "  122: JOHN *CAR BOOK                                                JOHN READ BOOK\n",
      "  189: JOHN *MARY *CORN *BUY1                                        JOHN GIVE GIRL BOX\n",
      "  181: JOHN ARRIVE                                                   JOHN ARRIVE\n",
      "Wall time: 1min 25s\n"
     ]
    }
   ],
   "source": [
    "%%time\n",
    "\n",
    "#features_custom,features_custom, features_delta, features_polar, features_norm\n",
    "# SelectorBIC ,SelectorDIC, SelectorCV\n",
    "\n",
    "\n",
    "\n",
    "features = features_custom_1              #features_ground # change as needed\n",
    "model_selector = SelectorBIC          #   SelectorConstant # change as needed\n",
    "\n",
    "# TODO Recognize the test set and display the result with the show_errors method\n",
    "models = train_all_words(features, model_selector)\n",
    "test_set = asl.build_test(features)\n",
    "probabilities, guesses = recognize(models, test_set)\n",
    "\n",
    "show_errors(guesses, test_set)"
   ]
  },
  {
   "cell_type": "markdown",
   "metadata": {
    "collapsed": true
   },
   "source": [
    "## DISCUSSION"
   ]
  },
  {
   "cell_type": "markdown",
   "metadata": {},
   "source": [
    "**Question 3:**  Summarize the error results from three combinations of features and model selectors.  What was the \"best\" combination and why?  What additional information might we use to improve our WER?  For more insight on improving WER, take a look at the introduction to Part 4.\n",
    "\n",
    "**Answer 3:**"
   ]
  },
  {
   "cell_type": "markdown",
   "metadata": {},
   "source": [
    "I ran exhaustive experiments for all the proposed features and the selection methods. As expected, select method in SelectorCV class took a very long time as every proposed sequence is split, combined and evaluated before finally computing the average value of LogL.  This contrasts with select methods in SelectorBIC where we only examine the provided range of possible n_components range. In addition to calculating the logL in both DIC and BIC, DIC takes extra time, depending on the implementation, when calculating the anti-evidence part.\n",
    "For these experiments, the lowest WER was recorded for polar features and the second lowest for custom features that considers the difference in polar values. Both feature sets utilized the select method in SelectorCV. \n",
    "I tried to build another custom feature centered around capturing similarity among the provided features by calculating the Mahalanobi Distance and weighting the values by other similarity metrics: the Mutual Information (MI) and COSIN distance (CD). The motive behind my thinking was as follows:\n",
    "-\tI needed to account for various shared information with other features in a statistical sense, that is why I considered (MI)\n",
    "-\tI needed to capture how the points are physically separated. (CD)\n",
    "-\tI wanted to combine the previous two items, and in the same time capturing how statistically the points were separated. That is why I combined them in the way described earlier in calculating the Mahalanobi distance.\n",
    "What I wanted to do was to cluster similar movements captured by certain features and then come up with clear classification borders. I was able to produce low WER in the beginning but I failed to reproduce it at a later stage. :)\n",
    "\n",
    "The following summarizes the finding and lists some top combinations   \n",
    "\n",
    "| Feature Set   | select method in   | WER         | Time | \n",
    "|:-------------:|:-------------:|:-------------------:|:--------:|\n",
    "| features_polar | SelectorCV      | 0.528     | 2min 35s|\n",
    "| features_custom    | SelectorCV    | 0.573 | 3min 36s |\n",
    "| features_norm   | SelectorDIC   | 0.595 | 3min 13 s|\n",
    "| features_custom_1   | SelectorBIC      | 0.584    |1min 25s|\n"
   ]
  },
  {
   "cell_type": "markdown",
   "metadata": {},
   "source": [
    "#### Conclusion\n",
    "This is a very interesting field where various ideas maybe tried to come up with better combinations. As suggested in the optional part, embedding some statistical information on group of words might result in better results. Other ideas include accounting for word frequencies, various similarity measures and using deep neural networks for training. I might consider exploring such options if I went to this specialization in the second term.\n"
   ]
  },
  {
   "cell_type": "markdown",
   "metadata": {},
   "source": [
    "<a id='part3_test'></a>\n",
    "### Recognizer Unit Tests\n",
    "Run the following unit tests as a sanity check on the defined recognizer.  The test simply looks for some valid values but is not exhaustive. However, the project should not be submitted if these tests don't pass."
   ]
  },
  {
   "cell_type": "code",
   "execution_count": 43,
   "metadata": {
    "collapsed": false
   },
   "outputs": [
    {
     "name": "stderr",
     "output_type": "stream",
     "text": [
      "..\n",
      "----------------------------------------------------------------------\n",
      "Ran 2 tests in 29.673s\n",
      "\n",
      "OK\n"
     ]
    },
    {
     "data": {
      "text/plain": [
       "<unittest.runner.TextTestResult run=2 errors=0 failures=0>"
      ]
     },
     "execution_count": 43,
     "metadata": {},
     "output_type": "execute_result"
    }
   ],
   "source": [
    "from asl_test_recognizer import TestRecognize\n",
    "suite = unittest.TestLoader().loadTestsFromModule(TestRecognize())\n",
    "unittest.TextTestRunner().run(suite)"
   ]
  },
  {
   "cell_type": "markdown",
   "metadata": {},
   "source": [
    "-------\n",
    "<a id='part4_info'></a>\n",
    "## PART 4: (OPTIONAL)  Improve the WER with Language Models\n",
    "We've squeezed just about as much as we can out of the model and still only get about 50% of the words right! Surely we can do better than that.  Probability to the rescue again in the form of [statistical language models (SLM)](https://en.wikipedia.org/wiki/Language_model).  The basic idea is that each word has some probability of occurrence within the set, and some probability that it is adjacent to specific other words. We can use that additional information to make better choices.\n",
    "\n",
    "##### Additional reading and resources\n",
    "- [Introduction to N-grams (Stanford Jurafsky slides)](https://web.stanford.edu/class/cs124/lec/languagemodeling.pdf)\n",
    "- [Speech Recognition Techniques for a Sign Language Recognition System, Philippe Dreuw et al](https://www-i6.informatik.rwth-aachen.de/publications/download/154/Dreuw--2007.pdf) see the improved results of applying LM on *this* data!\n",
    "- [SLM data for *this* ASL dataset](ftp://wasserstoff.informatik.rwth-aachen.de/pub/rwth-boston-104/lm/)\n",
    "\n",
    "##### Optional challenge\n",
    "The recognizer you implemented in Part 3 is equivalent to a \"0-gram\" SLM.  Improve the WER with the SLM data provided with the data set in the link above using \"1-gram\", \"2-gram\", and/or \"3-gram\" statistics. The `probabilities` data you've already calculated will be useful and can be turned into a pandas DataFrame if desired (see next cell).  \n",
    "Good luck!  Share your results with the class!"
   ]
  },
  {
   "cell_type": "code",
   "execution_count": 44,
   "metadata": {
    "collapsed": false
   },
   "outputs": [
    {
     "data": {
      "text/html": [
       "<div>\n",
       "<table border=\"1\" class=\"dataframe\">\n",
       "  <thead>\n",
       "    <tr style=\"text-align: right;\">\n",
       "      <th></th>\n",
       "      <th>ALL</th>\n",
       "      <th>ANN</th>\n",
       "      <th>APPLE</th>\n",
       "      <th>ARRIVE</th>\n",
       "      <th>BILL</th>\n",
       "      <th>BLAME</th>\n",
       "      <th>BLUE</th>\n",
       "      <th>BOOK</th>\n",
       "      <th>BORROW</th>\n",
       "      <th>BOX</th>\n",
       "      <th>...</th>\n",
       "      <th>VIDEOTAPE</th>\n",
       "      <th>VISIT</th>\n",
       "      <th>WANT</th>\n",
       "      <th>WHAT</th>\n",
       "      <th>WHO</th>\n",
       "      <th>WILL</th>\n",
       "      <th>WOMAN</th>\n",
       "      <th>WONT</th>\n",
       "      <th>WRITE</th>\n",
       "      <th>YESTERDAY</th>\n",
       "    </tr>\n",
       "  </thead>\n",
       "  <tbody>\n",
       "    <tr>\n",
       "      <th>0</th>\n",
       "      <td>82.670341</td>\n",
       "      <td>-inf</td>\n",
       "      <td>55.873472</td>\n",
       "      <td>78.056198</td>\n",
       "      <td>37.639792</td>\n",
       "      <td>14.165736</td>\n",
       "      <td>-787.182261</td>\n",
       "      <td>22.138702</td>\n",
       "      <td>29.668686</td>\n",
       "      <td>53.793808</td>\n",
       "      <td>...</td>\n",
       "      <td>23.943818</td>\n",
       "      <td>110.571743</td>\n",
       "      <td>-69.711202</td>\n",
       "      <td>55.237465</td>\n",
       "      <td>105.906614</td>\n",
       "      <td>61.684245</td>\n",
       "      <td>133.859420</td>\n",
       "      <td>54.782999</td>\n",
       "      <td>42.287950</td>\n",
       "      <td>53.781664</td>\n",
       "    </tr>\n",
       "    <tr>\n",
       "      <th>1</th>\n",
       "      <td>39.098083</td>\n",
       "      <td>-inf</td>\n",
       "      <td>51.398469</td>\n",
       "      <td>102.014123</td>\n",
       "      <td>-29.288279</td>\n",
       "      <td>43.744157</td>\n",
       "      <td>-716.391499</td>\n",
       "      <td>114.421558</td>\n",
       "      <td>29.872693</td>\n",
       "      <td>63.373150</td>\n",
       "      <td>...</td>\n",
       "      <td>88.064517</td>\n",
       "      <td>114.066630</td>\n",
       "      <td>-3.071063</td>\n",
       "      <td>94.782869</td>\n",
       "      <td>94.438549</td>\n",
       "      <td>-285.863640</td>\n",
       "      <td>67.494597</td>\n",
       "      <td>81.832569</td>\n",
       "      <td>125.328294</td>\n",
       "      <td>41.627908</td>\n",
       "    </tr>\n",
       "    <tr>\n",
       "      <th>2</th>\n",
       "      <td>59.365978</td>\n",
       "      <td>-inf</td>\n",
       "      <td>128.334699</td>\n",
       "      <td>183.514499</td>\n",
       "      <td>-8.553639</td>\n",
       "      <td>83.504233</td>\n",
       "      <td>-880.398357</td>\n",
       "      <td>191.661226</td>\n",
       "      <td>-98.116160</td>\n",
       "      <td>145.243970</td>\n",
       "      <td>...</td>\n",
       "      <td>186.235302</td>\n",
       "      <td>206.652505</td>\n",
       "      <td>-60.667861</td>\n",
       "      <td>145.385261</td>\n",
       "      <td>195.450831</td>\n",
       "      <td>-687.430664</td>\n",
       "      <td>113.044105</td>\n",
       "      <td>183.320408</td>\n",
       "      <td>120.671912</td>\n",
       "      <td>145.466891</td>\n",
       "    </tr>\n",
       "    <tr>\n",
       "      <th>3</th>\n",
       "      <td>152.470029</td>\n",
       "      <td>-inf</td>\n",
       "      <td>132.431174</td>\n",
       "      <td>129.889467</td>\n",
       "      <td>170.803317</td>\n",
       "      <td>-27.169656</td>\n",
       "      <td>-408.870323</td>\n",
       "      <td>115.152826</td>\n",
       "      <td>2.856502</td>\n",
       "      <td>77.511173</td>\n",
       "      <td>...</td>\n",
       "      <td>68.672876</td>\n",
       "      <td>156.783319</td>\n",
       "      <td>-141.085141</td>\n",
       "      <td>184.672524</td>\n",
       "      <td>190.724470</td>\n",
       "      <td>-84.062663</td>\n",
       "      <td>209.314955</td>\n",
       "      <td>141.582668</td>\n",
       "      <td>119.748678</td>\n",
       "      <td>119.632783</td>\n",
       "    </tr>\n",
       "    <tr>\n",
       "      <th>4</th>\n",
       "      <td>-54.410524</td>\n",
       "      <td>-inf</td>\n",
       "      <td>-223.611610</td>\n",
       "      <td>23.308252</td>\n",
       "      <td>-301.478954</td>\n",
       "      <td>21.707176</td>\n",
       "      <td>-783.574866</td>\n",
       "      <td>22.871686</td>\n",
       "      <td>-19.850745</td>\n",
       "      <td>12.748136</td>\n",
       "      <td>...</td>\n",
       "      <td>-35.988824</td>\n",
       "      <td>33.581193</td>\n",
       "      <td>-46.858685</td>\n",
       "      <td>-13.031603</td>\n",
       "      <td>-25.278288</td>\n",
       "      <td>-262.170572</td>\n",
       "      <td>-92.523126</td>\n",
       "      <td>-74.239058</td>\n",
       "      <td>-20.065508</td>\n",
       "      <td>-159.968099</td>\n",
       "    </tr>\n",
       "  </tbody>\n",
       "</table>\n",
       "<p>5 rows × 112 columns</p>\n",
       "</div>"
      ],
      "text/plain": [
       "          ALL  ANN       APPLE      ARRIVE        BILL      BLAME        BLUE  \\\n",
       "0   82.670341 -inf   55.873472   78.056198   37.639792  14.165736 -787.182261   \n",
       "1   39.098083 -inf   51.398469  102.014123  -29.288279  43.744157 -716.391499   \n",
       "2   59.365978 -inf  128.334699  183.514499   -8.553639  83.504233 -880.398357   \n",
       "3  152.470029 -inf  132.431174  129.889467  170.803317 -27.169656 -408.870323   \n",
       "4  -54.410524 -inf -223.611610   23.308252 -301.478954  21.707176 -783.574866   \n",
       "\n",
       "         BOOK     BORROW         BOX     ...       VIDEOTAPE       VISIT  \\\n",
       "0   22.138702  29.668686   53.793808     ...       23.943818  110.571743   \n",
       "1  114.421558  29.872693   63.373150     ...       88.064517  114.066630   \n",
       "2  191.661226 -98.116160  145.243970     ...      186.235302  206.652505   \n",
       "3  115.152826   2.856502   77.511173     ...       68.672876  156.783319   \n",
       "4   22.871686 -19.850745   12.748136     ...      -35.988824   33.581193   \n",
       "\n",
       "         WANT        WHAT         WHO        WILL       WOMAN        WONT  \\\n",
       "0  -69.711202   55.237465  105.906614   61.684245  133.859420   54.782999   \n",
       "1   -3.071063   94.782869   94.438549 -285.863640   67.494597   81.832569   \n",
       "2  -60.667861  145.385261  195.450831 -687.430664  113.044105  183.320408   \n",
       "3 -141.085141  184.672524  190.724470  -84.062663  209.314955  141.582668   \n",
       "4  -46.858685  -13.031603  -25.278288 -262.170572  -92.523126  -74.239058   \n",
       "\n",
       "        WRITE   YESTERDAY  \n",
       "0   42.287950   53.781664  \n",
       "1  125.328294   41.627908  \n",
       "2  120.671912  145.466891  \n",
       "3  119.748678  119.632783  \n",
       "4  -20.065508 -159.968099  \n",
       "\n",
       "[5 rows x 112 columns]"
      ]
     },
     "execution_count": 44,
     "metadata": {},
     "output_type": "execute_result"
    }
   ],
   "source": [
    "# create a DataFrame of log likelihoods for the test word items\n",
    "df_probs = pd.DataFrame(data=probabilities)\n",
    "df_probs.head()"
   ]
  }
 ],
 "metadata": {
  "anaconda-cloud": {},
  "kernelspec": {
   "display_name": "Python 3",
   "language": "python",
   "name": "python3"
  },
  "language_info": {
   "codemirror_mode": {
    "name": "ipython",
    "version": 3
   },
   "file_extension": ".py",
   "mimetype": "text/x-python",
   "name": "python",
   "nbconvert_exporter": "python",
   "pygments_lexer": "ipython3",
   "version": "3.5.2"
  },
  "nbpresent": {
   "slides": {
    "0a2d4faf-9fb8-4cee-853b-ed68b90f3f8a": {
     "id": "0a2d4faf-9fb8-4cee-853b-ed68b90f3f8a",
     "prev": null,
     "regions": {
      "3fb9ce83-fbb2-4995-832a-f8f400734ad3": {
       "attrs": {
        "height": 0.8,
        "width": 0.8,
        "x": 0.1,
        "y": 0.1
       },
       "content": {
        "cell": "1dbb9346-179b-4835-b430-6369d88f1a1b",
        "part": "whole"
       },
       "id": "3fb9ce83-fbb2-4995-832a-f8f400734ad3"
      }
     }
    },
    "1519a4fa-1588-4644-98de-9c43bf0aceb5": {
     "id": "1519a4fa-1588-4644-98de-9c43bf0aceb5",
     "prev": "8a712017-49b7-449f-8264-43a032ace902",
     "regions": {
      "29546121-ed11-44b7-8144-0c44e874098f": {
       "attrs": {
        "height": 0.8,
        "width": 0.8,
        "x": 0.1,
        "y": 0.1
       },
       "content": {
        "cell": "365590a4-6963-4812-a1cf-688f7b6bb9ff",
        "part": "whole"
       },
       "id": "29546121-ed11-44b7-8144-0c44e874098f"
      }
     }
    },
    "176eaccb-15dd-455d-bf07-504213e7aa01": {
     "id": "176eaccb-15dd-455d-bf07-504213e7aa01",
     "prev": "de6b30f4-2463-4901-92ed-aabad78e5e0f",
     "regions": {
      "1542aa9e-dc55-4b90-adef-bf5181872b42": {
       "attrs": {
        "height": 0.8,
        "width": 0.8,
        "x": 0.1,
        "y": 0.1
       },
       "content": {
        "cell": "5c242050-c1f7-4b3b-8103-2ea9d71a40dc",
        "part": "whole"
       },
       "id": "1542aa9e-dc55-4b90-adef-bf5181872b42"
      }
     }
    },
    "19091b36-b0e7-49b1-b501-ec05937e0da9": {
     "id": "19091b36-b0e7-49b1-b501-ec05937e0da9",
     "prev": "1983c02e-fb99-4c05-a728-e0c0ad7c06d8",
     "regions": {
      "6529a31c-8d45-425c-b1d7-d0ac6fca6a32": {
       "attrs": {
        "height": 0.8,
        "width": 0.8,
        "x": 0.1,
        "y": 0.1
       },
       "content": {
        "cell": "e766909d-9421-4aaf-9fb1-bc90d27e49e3",
        "part": "whole"
       },
       "id": "6529a31c-8d45-425c-b1d7-d0ac6fca6a32"
      }
     }
    },
    "1983c02e-fb99-4c05-a728-e0c0ad7c06d8": {
     "id": "1983c02e-fb99-4c05-a728-e0c0ad7c06d8",
     "prev": "176eaccb-15dd-455d-bf07-504213e7aa01",
     "regions": {
      "1c4e605d-7f22-4f30-b3fb-74b2937e7a4a": {
       "attrs": {
        "height": 0.8,
        "width": 0.8,
        "x": 0.1,
        "y": 0.1
       },
       "content": {
        "cell": "4d217204-e5c0-4568-bd30-12c2e41b681d",
        "part": "whole"
       },
       "id": "1c4e605d-7f22-4f30-b3fb-74b2937e7a4a"
      }
     }
    },
    "212b111f-4527-459c-8297-1db5580ee5c9": {
     "id": "212b111f-4527-459c-8297-1db5580ee5c9",
     "prev": "76898529-e49e-4663-8d02-8261dfe1d94b",
     "regions": {
      "2e4bd280-3cd6-47d0-9c81-17737b24053b": {
       "attrs": {
        "height": 0.8,
        "width": 0.8,
        "x": 0.1,
        "y": 0.1
       },
       "content": {
        "cell": "0c316996-9933-4b3d-82ec-259518dc8bc9",
        "part": "whole"
       },
       "id": "2e4bd280-3cd6-47d0-9c81-17737b24053b"
      }
     }
    },
    "23a7337f-a0cf-4ed4-baa9-ec06bfdc0579": {
     "id": "23a7337f-a0cf-4ed4-baa9-ec06bfdc0579",
     "prev": "e76e9a02-54c1-4ec9-80fb-c611ed398122",
     "regions": {
      "b5721d20-d6f8-4ddb-a5aa-eb16f0cc8893": {
       "attrs": {
        "height": 0.8,
        "width": 0.8,
        "x": 0.1,
        "y": 0.1
       },
       "content": {
        "cell": "313015a2-b5a9-4136-a8ea-5d011e47d840",
        "part": "whole"
       },
       "id": "b5721d20-d6f8-4ddb-a5aa-eb16f0cc8893"
      }
     }
    },
    "732f1952-ee54-46fb-8067-099512824296": {
     "id": "732f1952-ee54-46fb-8067-099512824296",
     "prev": "0a2d4faf-9fb8-4cee-853b-ed68b90f3f8a",
     "regions": {
      "f31d4597-08ad-4c46-ad52-4bd2d775c624": {
       "attrs": {
        "height": 0.8,
        "width": 0.8,
        "x": 0.1,
        "y": 0.1
       },
       "content": {
        "cell": "aadfec52-27ca-4541-8920-fa9253d51827",
        "part": "whole"
       },
       "id": "f31d4597-08ad-4c46-ad52-4bd2d775c624"
      }
     }
    },
    "76898529-e49e-4663-8d02-8261dfe1d94b": {
     "id": "76898529-e49e-4663-8d02-8261dfe1d94b",
     "prev": "19091b36-b0e7-49b1-b501-ec05937e0da9",
     "regions": {
      "ec1746fc-aec9-4a7c-8225-9e9ac8d45889": {
       "attrs": {
        "height": 0.8,
        "width": 0.8,
        "x": 0.1,
        "y": 0.1
       },
       "content": {
        "cell": "b3e539be-84e2-49ce-a183-31cfc5c7ce7c",
        "part": "whole"
       },
       "id": "ec1746fc-aec9-4a7c-8225-9e9ac8d45889"
      }
     }
    },
    "8a712017-49b7-449f-8264-43a032ace902": {
     "id": "8a712017-49b7-449f-8264-43a032ace902",
     "prev": "bed9e696-630e-4747-be1c-bc3737ba992f",
     "regions": {
      "1faab517-cd16-4c63-bb01-a67246749d7a": {
       "attrs": {
        "height": 0.8,
        "width": 0.8,
        "x": 0.1,
        "y": 0.1
       },
       "content": {
        "cell": "3f14ddf0-4145-4687-9c33-712c3c32520f",
        "part": "whole"
       },
       "id": "1faab517-cd16-4c63-bb01-a67246749d7a"
      }
     }
    },
    "90af992d-eb6d-4496-b2d2-6aa9a95b6a61": {
     "id": "90af992d-eb6d-4496-b2d2-6aa9a95b6a61",
     "prev": "732f1952-ee54-46fb-8067-099512824296",
     "regions": {
      "4f448bec-5be9-4553-88ae-e35ed7612f25": {
       "attrs": {
        "height": 0.8,
        "width": 0.8,
        "x": 0.1,
        "y": 0.1
       },
       "content": {
        "cell": "c445fbfb-b8ab-4e9a-8d13-12231a1c588f",
        "part": "whole"
       },
       "id": "4f448bec-5be9-4553-88ae-e35ed7612f25"
      }
     }
    },
    "bed9e696-630e-4747-be1c-bc3737ba992f": {
     "id": "bed9e696-630e-4747-be1c-bc3737ba992f",
     "prev": "23a7337f-a0cf-4ed4-baa9-ec06bfdc0579",
     "regions": {
      "ac1513f0-404f-492b-8b42-0313e9a753b0": {
       "attrs": {
        "height": 0.8,
        "width": 0.8,
        "x": 0.1,
        "y": 0.1
       },
       "content": {
        "cell": "18dd2eee-8b6c-4a5e-9539-132d00a7c7e1",
        "part": "whole"
       },
       "id": "ac1513f0-404f-492b-8b42-0313e9a753b0"
      }
     }
    },
    "de6b30f4-2463-4901-92ed-aabad78e5e0f": {
     "id": "de6b30f4-2463-4901-92ed-aabad78e5e0f",
     "prev": "e36b4639-be8c-46f7-a8c9-bcfb134f9fd0",
     "regions": {
      "55ec36e0-362f-4fd3-8060-7cee056039aa": {
       "attrs": {
        "height": 0.8,
        "width": 0.8,
        "x": 0.1,
        "y": 0.1
       },
       "content": {
        "cell": "c3cf461e-4c9e-4dec-99d2-07bfa79cbe23",
        "part": "whole"
       },
       "id": "55ec36e0-362f-4fd3-8060-7cee056039aa"
      }
     }
    },
    "e36b4639-be8c-46f7-a8c9-bcfb134f9fd0": {
     "id": "e36b4639-be8c-46f7-a8c9-bcfb134f9fd0",
     "prev": "1519a4fa-1588-4644-98de-9c43bf0aceb5",
     "regions": {
      "4c1e9714-9ba0-45fd-8a2f-ef80a5c85c2e": {
       "attrs": {
        "height": 0.8,
        "width": 0.8,
        "x": 0.1,
        "y": 0.1
       },
       "content": {
        "cell": "6534d4dc-125f-47e6-a022-cf1e0d277174",
        "part": "whole"
       },
       "id": "4c1e9714-9ba0-45fd-8a2f-ef80a5c85c2e"
      }
     }
    },
    "e76e9a02-54c1-4ec9-80fb-c611ed398122": {
     "id": "e76e9a02-54c1-4ec9-80fb-c611ed398122",
     "prev": "90af992d-eb6d-4496-b2d2-6aa9a95b6a61",
     "regions": {
      "9491b84d-193b-40ff-9321-d21eb1ba88d4": {
       "attrs": {
        "height": 0.8,
        "width": 0.8,
        "x": 0.1,
        "y": 0.1
       },
       "content": {
        "cell": "b64ec10e-fa9d-4f3f-907f-6799611ed6b1",
        "part": "whole"
       },
       "id": "9491b84d-193b-40ff-9321-d21eb1ba88d4"
      }
     }
    }
   },
   "themes": {}
  }
 },
 "nbformat": 4,
 "nbformat_minor": 0
}
